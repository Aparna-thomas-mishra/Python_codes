{
  "nbformat": 4,
  "nbformat_minor": 0,
  "metadata": {
    "colab": {
      "provenance": [],
      "authorship_tag": "ABX9TyPPyBquvr8uiJj09KDcsbNJ",
      "include_colab_link": true
    },
    "kernelspec": {
      "name": "python3",
      "display_name": "Python 3"
    },
    "language_info": {
      "name": "python"
    }
  },
  "cells": [
    {
      "cell_type": "markdown",
      "metadata": {
        "id": "view-in-github",
        "colab_type": "text"
      },
      "source": [
        "<a href=\"https://colab.research.google.com/github/Aparna-thomas-mishra/Python_codes/blob/main/Basic_python.ipynb\" target=\"_parent\"><img src=\"https://colab.research.google.com/assets/colab-badge.svg\" alt=\"Open In Colab\"/></a>"
      ]
    },
    {
      "cell_type": "markdown",
      "source": [
        "Variables\n",
        "\n",
        "These are containers to store values."
      ],
      "metadata": {
        "id": "xmK-zyOIa0Lx"
      }
    },
    {
      "cell_type": "code",
      "execution_count": null,
      "metadata": {
        "id": "2qLdBwHQWJi9"
      },
      "outputs": [],
      "source": [
        "# Casting - specify the datatype of a variable\n",
        "\n",
        "x=str(3)\n",
        "y=float(5)\n",
        "z=int(10)"
      ]
    },
    {
      "cell_type": "code",
      "source": [
        "# Get datatype of a variable\n",
        "\n",
        "print(type(x))"
      ],
      "metadata": {
        "colab": {
          "base_uri": "https://localhost:8080/"
        },
        "id": "O5eh6oZabRxO",
        "outputId": "cbd4bf1d-ef37-4a57-903e-4165105588cb"
      },
      "execution_count": null,
      "outputs": [
        {
          "output_type": "stream",
          "name": "stdout",
          "text": [
            "<class 'str'>\n"
          ]
        }
      ]
    },
    {
      "cell_type": "code",
      "source": [
        "type(y)"
      ],
      "metadata": {
        "colab": {
          "base_uri": "https://localhost:8080/"
        },
        "id": "S9NJR9U3bY2-",
        "outputId": "29f29c22-5b10-43fe-e776-81c1ba0be5e1"
      },
      "execution_count": null,
      "outputs": [
        {
          "output_type": "execute_result",
          "data": {
            "text/plain": [
              "float"
            ]
          },
          "metadata": {},
          "execution_count": 3
        }
      ]
    },
    {
      "cell_type": "markdown",
      "source": [
        "Multi-words variable names\n",
        "\n",
        "- camelCase - myVariableName\n",
        "- PascalCase - MyVariableName\n",
        "- snake_case - my_variable_name"
      ],
      "metadata": {
        "id": "FapBB9H8dfFH"
      }
    },
    {
      "cell_type": "code",
      "source": [
        "# Assign many values to multiple variables\n",
        "\n",
        "x, y, z = 'Apple','Banana','Mango'\n",
        "print(x)\n",
        "print(y)\n",
        "print(z)"
      ],
      "metadata": {
        "colab": {
          "base_uri": "https://localhost:8080/"
        },
        "id": "ErUdAOVAbbv2",
        "outputId": "ddf5a8c8-ec1e-4a4e-cd0c-80f64942aead"
      },
      "execution_count": null,
      "outputs": [
        {
          "output_type": "stream",
          "name": "stdout",
          "text": [
            "Apple\n",
            "Banana\n",
            "Mango\n"
          ]
        }
      ]
    },
    {
      "cell_type": "code",
      "source": [
        "# one value to multiple variables\n",
        "\n",
        "x=y=z ='orange'\n",
        "\n",
        "print(x)\n",
        "print(y)\n",
        "print(z)"
      ],
      "metadata": {
        "colab": {
          "base_uri": "https://localhost:8080/"
        },
        "id": "H7GOEgkeeS-i",
        "outputId": "64283cab-5f3c-44d7-ec01-aff4d7743e78"
      },
      "execution_count": null,
      "outputs": [
        {
          "output_type": "stream",
          "name": "stdout",
          "text": [
            "orange\n",
            "orange\n",
            "orange\n"
          ]
        }
      ]
    },
    {
      "cell_type": "code",
      "source": [
        "# upack a list\n",
        "\n",
        "fruits =['Apple','Banana','Mango']\n",
        "x,y,z = fruits\n",
        "\n",
        "print(x)\n",
        "print(y)\n",
        "print(z)"
      ],
      "metadata": {
        "colab": {
          "base_uri": "https://localhost:8080/"
        },
        "id": "dfscNGaZemRw",
        "outputId": "d38064ec-9375-40a4-bb2a-67d7d548d283"
      },
      "execution_count": null,
      "outputs": [
        {
          "output_type": "stream",
          "name": "stdout",
          "text": [
            "Apple\n",
            "Banana\n",
            "Mango\n"
          ]
        }
      ]
    },
    {
      "cell_type": "code",
      "source": [
        "# Concatenate multiple variables\n",
        "\n",
        "x, y, z = 'Apple','Banana','Mango'\n",
        "\n",
        "print(x,y,z)"
      ],
      "metadata": {
        "colab": {
          "base_uri": "https://localhost:8080/"
        },
        "id": "Wx0RCSDle7fN",
        "outputId": "202dbf04-504d-469e-ea72-c28b8af8b0e6"
      },
      "execution_count": null,
      "outputs": [
        {
          "output_type": "stream",
          "name": "stdout",
          "text": [
            "Apple Banana Mango\n"
          ]
        }
      ]
    },
    {
      "cell_type": "code",
      "source": [
        "print(x+y+z)"
      ],
      "metadata": {
        "colab": {
          "base_uri": "https://localhost:8080/"
        },
        "id": "-tcUwo6pfEzt",
        "outputId": "ad9836f3-4fe6-44f3-89fc-d8c8e111b1ff"
      },
      "execution_count": null,
      "outputs": [
        {
          "output_type": "stream",
          "name": "stdout",
          "text": [
            "AppleBananaMango\n"
          ]
        }
      ]
    },
    {
      "cell_type": "code",
      "source": [
        "# Global Variables - variables that are created outside of a function\n",
        "\n",
        "x='awesome'\n",
        "\n",
        "def myFunc():\n",
        "  print('Python is ' + x)\n",
        "\n",
        "myFunc()\n",
        "\n",
        "print(x)"
      ],
      "metadata": {
        "colab": {
          "base_uri": "https://localhost:8080/"
        },
        "id": "m0RGoUWwfUxW",
        "outputId": "84b2524d-b3a2-4bb8-c326-757a7c1f4a54"
      },
      "execution_count": null,
      "outputs": [
        {
          "output_type": "stream",
          "name": "stdout",
          "text": [
            "Python is awesome\n",
            "awesome\n"
          ]
        }
      ]
    },
    {
      "cell_type": "code",
      "source": [
        "# Variables created inside a function are accessible only in the function. however, to use this variable outside put keyword global\n",
        "\n",
        "def myFunc():\n",
        "  global x\n",
        "  x='nice'\n",
        "\n",
        "myFunc()\n",
        "\n",
        "print('Python is',x)"
      ],
      "metadata": {
        "colab": {
          "base_uri": "https://localhost:8080/"
        },
        "id": "vJL98vMMf6zl",
        "outputId": "925b9de6-4e55-4bbb-cee3-aa96778495e2"
      },
      "execution_count": null,
      "outputs": [
        {
          "output_type": "stream",
          "name": "stdout",
          "text": [
            "Python is nice\n"
          ]
        }
      ]
    },
    {
      "cell_type": "markdown",
      "source": [
        "DataTypes\n",
        "\n",
        "Default Python Datatypes:\n",
        "\n",
        "- Text types - str\n",
        "- Numeric types - int, float, complex\n",
        "- sequence types - list, tuple, range\n",
        "- mapping types - dict\n",
        "- set types - set, frozenset\n",
        "- boolean types - bool\n",
        "- binary types - bytes, bytearray, memoryview\n",
        "- none types - NoneType"
      ],
      "metadata": {
        "id": "adEgZn_Ag7H2"
      }
    },
    {
      "cell_type": "code",
      "source": [
        "# display a random number between 1 to 10\n",
        "\n",
        "import random\n",
        "\n",
        "# x=random.randrange(1,100)\n",
        "# print(x)\n",
        "\n",
        "# optimized code\n",
        "print(random.randrange(1,100))"
      ],
      "metadata": {
        "colab": {
          "base_uri": "https://localhost:8080/"
        },
        "id": "c2ttgU07iL-o",
        "outputId": "f05af0a5-d955-4cf4-a033-0c8fcf367035"
      },
      "execution_count": null,
      "outputs": [
        {
          "output_type": "stream",
          "name": "stdout",
          "text": [
            "79\n"
          ]
        }
      ]
    },
    {
      "cell_type": "code",
      "source": [
        "# Casting - Specify a variable type using constructor functions\n",
        "# int(), float(), str() etc\n",
        "\n",
        "x=5.6\n",
        "print(int(x))"
      ],
      "metadata": {
        "colab": {
          "base_uri": "https://localhost:8080/"
        },
        "id": "z-TBIOYViS3w",
        "outputId": "addd0e7f-5c96-4740-a89b-973e64b3db6f"
      },
      "execution_count": null,
      "outputs": [
        {
          "output_type": "stream",
          "name": "stdout",
          "text": [
            "5\n"
          ]
        }
      ]
    },
    {
      "cell_type": "code",
      "source": [
        "# looping through a string\n",
        "\n",
        "for x in 'banana':\n",
        "  print(x)"
      ],
      "metadata": {
        "colab": {
          "base_uri": "https://localhost:8080/"
        },
        "id": "h8iWY9tep5ki",
        "outputId": "be39f559-4cde-47fb-9d60-327c587a3712"
      },
      "execution_count": null,
      "outputs": [
        {
          "output_type": "stream",
          "name": "stdout",
          "text": [
            "b\n",
            "a\n",
            "n\n",
            "a\n",
            "n\n",
            "a\n"
          ]
        }
      ]
    },
    {
      "cell_type": "code",
      "source": [
        "# find string length\n",
        "\n",
        "x='banana'\n",
        "print(len(x))\n",
        "\n",
        "# optimized code\n",
        "print(len('banana'))"
      ],
      "metadata": {
        "colab": {
          "base_uri": "https://localhost:8080/"
        },
        "id": "lBzvO7JCqBcW",
        "outputId": "00ba3fe0-84d6-46a1-bf97-940e6986de0b"
      },
      "execution_count": null,
      "outputs": [
        {
          "output_type": "stream",
          "name": "stdout",
          "text": [
            "6\n",
            "6\n"
          ]
        }
      ]
    },
    {
      "cell_type": "code",
      "source": [
        "# Check if a certain phrase is available in a string\n",
        "\n",
        "word = 'This is a beautiful world'\n",
        "\n",
        "chec = str(input())\n",
        "\n",
        "print(chec in word)"
      ],
      "metadata": {
        "colab": {
          "base_uri": "https://localhost:8080/"
        },
        "id": "5nxyGjlBqPYf",
        "outputId": "1c37b66d-2924-4926-d435-46ac95067b0b"
      },
      "execution_count": null,
      "outputs": [
        {
          "output_type": "stream",
          "name": "stdout",
          "text": [
            "were\n",
            "False\n"
          ]
        }
      ]
    },
    {
      "cell_type": "code",
      "source": [
        "# Check if a certain phrase is not available in a string\n",
        "\n",
        "word = 'This is a beautiful world'\n",
        "\n",
        "chec = str(input())\n",
        "\n",
        "print(chec not in word)"
      ],
      "metadata": {
        "colab": {
          "base_uri": "https://localhost:8080/"
        },
        "id": "y1NwloL0wRxq",
        "outputId": "36bdae71-5338-49e6-fa5c-c2638982086f"
      },
      "execution_count": null,
      "outputs": [
        {
          "output_type": "stream",
          "name": "stdout",
          "text": [
            "were\n",
            "True\n"
          ]
        }
      ]
    },
    {
      "cell_type": "code",
      "source": [
        "# Check if a certain phrase is not available in a string using if statement\n",
        "\n",
        "word = 'This is a beautiful world'\n",
        "\n",
        "chec = str(input())\n",
        "\n",
        "if chec not in word:\n",
        "  print('sorry the word is not present')\n",
        "else:\n",
        "  print('hurray')"
      ],
      "metadata": {
        "colab": {
          "base_uri": "https://localhost:8080/"
        },
        "id": "EutQulEdwhUN",
        "outputId": "d3189384-7b97-48e0-cd79-970d0ee2eb09"
      },
      "execution_count": null,
      "outputs": [
        {
          "output_type": "stream",
          "name": "stdout",
          "text": [
            "not\n",
            "sorry the word is not present\n"
          ]
        }
      ]
    },
    {
      "cell_type": "code",
      "source": [
        "# slicing a string\n",
        "\n",
        "print(word[3:9])"
      ],
      "metadata": {
        "colab": {
          "base_uri": "https://localhost:8080/"
        },
        "id": "6GuduDcvw2HM",
        "outputId": "77ad23d6-8678-4ead-b065-12f03f65447b"
      },
      "execution_count": null,
      "outputs": [
        {
          "output_type": "stream",
          "name": "stdout",
          "text": [
            "s is a\n"
          ]
        }
      ]
    },
    {
      "cell_type": "code",
      "source": [
        "# slice a string from the start\n",
        "\n",
        "print(word[:6])"
      ],
      "metadata": {
        "colab": {
          "base_uri": "https://localhost:8080/"
        },
        "id": "OCbtgPZaxEIV",
        "outputId": "f684ca09-e48a-4cca-9b3c-0f06969476da"
      },
      "execution_count": null,
      "outputs": [
        {
          "output_type": "stream",
          "name": "stdout",
          "text": [
            "This i\n"
          ]
        }
      ]
    },
    {
      "cell_type": "code",
      "source": [
        "# slice till the end\n",
        "\n",
        "print(word[5:])"
      ],
      "metadata": {
        "colab": {
          "base_uri": "https://localhost:8080/"
        },
        "id": "7M0DR45LxMks",
        "outputId": "35b09dc4-eb49-4c12-d602-31208b7fa6e1"
      },
      "execution_count": null,
      "outputs": [
        {
          "output_type": "stream",
          "name": "stdout",
          "text": [
            "is a beautiful world\n"
          ]
        }
      ]
    },
    {
      "cell_type": "code",
      "source": [
        "# Negative indexing - start the slicing from the end\n",
        "\n",
        "print(word[-5:-2])"
      ],
      "metadata": {
        "colab": {
          "base_uri": "https://localhost:8080/"
        },
        "id": "z_xi4b5UxVmt",
        "outputId": "d4f19b03-279c-44d5-90c0-556568e69231"
      },
      "execution_count": null,
      "outputs": [
        {
          "output_type": "stream",
          "name": "stdout",
          "text": [
            "wor\n"
          ]
        }
      ]
    },
    {
      "cell_type": "code",
      "source": [
        "# return string in upper case\n",
        "\n",
        "print(word.upper())"
      ],
      "metadata": {
        "colab": {
          "base_uri": "https://localhost:8080/"
        },
        "id": "ulvEQnF5xjQL",
        "outputId": "00557d57-0569-47ba-9eae-5776a4d1e8a0"
      },
      "execution_count": null,
      "outputs": [
        {
          "output_type": "stream",
          "name": "stdout",
          "text": [
            "THIS IS A BEAUTIFUL WORLD\n"
          ]
        }
      ]
    },
    {
      "cell_type": "code",
      "source": [
        "# return string in lower case\n",
        "\n",
        "print(word.lower())"
      ],
      "metadata": {
        "colab": {
          "base_uri": "https://localhost:8080/"
        },
        "id": "1HkUJrZSx3QO",
        "outputId": "fac039c6-4069-429a-ffbc-8a181e03565d"
      },
      "execution_count": null,
      "outputs": [
        {
          "output_type": "stream",
          "name": "stdout",
          "text": [
            "this is a beautiful world\n"
          ]
        }
      ]
    },
    {
      "cell_type": "code",
      "source": [
        "# remove whitespace from beginning and end\n",
        "\n",
        "a=' Hello World  '\n",
        "print(a.strip())"
      ],
      "metadata": {
        "colab": {
          "base_uri": "https://localhost:8080/"
        },
        "id": "pbvPVHHRx-AZ",
        "outputId": "edb2a005-172a-4362-b730-d7a1ad87db29"
      },
      "execution_count": null,
      "outputs": [
        {
          "output_type": "stream",
          "name": "stdout",
          "text": [
            "Hello World\n"
          ]
        }
      ]
    },
    {
      "cell_type": "code",
      "source": [
        "# replace a string with another string\n",
        "\n",
        "print(a.replace('H','J'))"
      ],
      "metadata": {
        "colab": {
          "base_uri": "https://localhost:8080/"
        },
        "id": "yC8te6veyMww",
        "outputId": "19301e62-a33b-44a9-9a4e-6b4346d88a47"
      },
      "execution_count": null,
      "outputs": [
        {
          "output_type": "stream",
          "name": "stdout",
          "text": [
            " Jello World  \n"
          ]
        }
      ]
    },
    {
      "cell_type": "code",
      "source": [
        "# combine string and numbers using format()\n",
        "\n",
        "age = input()\n",
        "txt = 'Your age is {}'\n",
        "\n",
        "print(txt.format(age))"
      ],
      "metadata": {
        "colab": {
          "base_uri": "https://localhost:8080/"
        },
        "id": "ZHEg7xQK1Aog",
        "outputId": "9a4a747e-eefe-4e75-c2b8-68ff71ffa08e"
      },
      "execution_count": null,
      "outputs": [
        {
          "output_type": "stream",
          "name": "stdout",
          "text": [
            "30\n",
            "Your age is 30\n"
          ]
        }
      ]
    },
    {
      "cell_type": "code",
      "source": [
        "# format() method takes unlimited number of arguments, and are placed into the respective placeholders\n",
        "\n",
        "name = input('Enter your name ')\n",
        "age = input('Enter your age ')\n",
        "place = input('Wnere do you live ')\n",
        "txt = 'Hi.\\nMy name is {}.\\nI am {} years old. \\nI live in {}'\n",
        "\n",
        "print(txt.format(name, age, place))"
      ],
      "metadata": {
        "colab": {
          "base_uri": "https://localhost:8080/"
        },
        "id": "j508aZev1ly_",
        "outputId": "01a2aae5-af06-42ea-e5ce-20c9a6b560cb"
      },
      "execution_count": null,
      "outputs": [
        {
          "output_type": "stream",
          "name": "stdout",
          "text": [
            "Enter your name Aparna\n",
            "Enter your age 30\n",
            "Wnere do you live KY\n",
            "Hi.\n",
            "My name is Aparna.\n",
            "I am 30 years old. \n",
            "I live in KY\n"
          ]
        }
      ]
    },
    {
      "cell_type": "code",
      "source": [
        "txt = 'Hi. \\n My name is'\n",
        "\n",
        "print(txt)"
      ],
      "metadata": {
        "colab": {
          "base_uri": "https://localhost:8080/"
        },
        "id": "L1T8Ldrq3dDR",
        "outputId": "a87ab388-6e61-449f-8bf1-9f4166fba48f"
      },
      "execution_count": null,
      "outputs": [
        {
          "output_type": "stream",
          "name": "stdout",
          "text": [
            "Hi. \n",
            " My name is\n"
          ]
        }
      ]
    },
    {
      "cell_type": "code",
      "source": [
        "# String Methods\n",
        "\n",
        "# Method\tDescription\n",
        "# capitalize() -\tConverts the first character to upper case\n",
        "# casefold() -\tConverts string into lower case\n",
        "# center() -\tReturns a centered string\n",
        "# count() -\tReturns the number of times a specified value occurs in a string\n",
        "# encode() -\tReturns an encoded version of the string\n",
        "# endswith() -\tReturns true if the string ends with the specified value\n",
        "# expandtabs() -\tSets the tab size of the string\n",
        "# find() -\tSearches the string for a specified value and returns the position of where it was found\n",
        "# format() -\tFormats specified values in a string\n",
        "# format_map() -\tFormats specified values in a string\n",
        "# index() -\tSearches the string for a specified value and returns the position of where it was found\n",
        "# isalnum() -\tReturns True if all characters in the string are alphanumeric\n",
        "# isalpha()\t- Returns True if all characters in the string are in the alphabet\n",
        "# isascii() -\tReturns True if all characters in the string are ascii characters\n",
        "# isdecimal() -\tReturns True if all characters in the string are decimals\n",
        "# isdigit() -\tReturns True if all characters in the string are digits\n",
        "# isidentifier() -\tReturns True if the string is an identifier\n",
        "# islower() -\tReturns True if all characters in the string are lower case\n",
        "# isnumeric() -\tReturns True if all characters in the string are numeric\n",
        "# isprintable() -\tReturns True if all characters in the string are printable\n",
        "# isspace() -\tReturns True if all characters in the string are whitespaces\n",
        "# istitle() -\tReturns True if the string follows the rules of a title\n",
        "# isupper() -\tReturns True if all characters in the string are upper case\n",
        "# join() -\tJoins the elements of an iterable to the end of the string\n",
        "# ljust() -\tReturns a left justified version of the string\n",
        "# lower() -\tConverts a string into lower case\n",
        "# lstrip() -\tReturns a left trim version of the string\n",
        "# maketrans() -\tReturns a translation table to be used in translations\n",
        "# partition() -\tReturns a tuple where the string is parted into three parts\n",
        "# replace() -\tReturns a string where a specified value is replaced with a specified value\n",
        "# rfind() -\tSearches the string for a specified value and returns the last position of where it was found\n",
        "# rindex() -\tSearches the string for a specified value and returns the last position of where it was found\n",
        "# rjust() -\tReturns a right justified version of the string\n",
        "# rpartition() -\tReturns a tuple where the string is parted into three parts\n",
        "# rsplit() -\tSplits the string at the specified separator, and returns a list\n",
        "# rstrip() -\tReturns a right trim version of the string\n",
        "# split() -\tSplits the string at the specified separator, and returns a list\n",
        "# splitlines() -\tSplits the string at line breaks and returns a list\n",
        "# startswith() -\tReturns true if the string starts with the specified value\n",
        "# strip() -\tReturns a trimmed version of the string\n",
        "  # swapcase() -\tSwaps cases, lower case becomes upper case and vice versa\n",
        "# title() -\tConverts the first character of each word to upper case\n",
        "# translate() -\tReturns a translated string\n",
        "# upper() -\tConverts a string into upper case\n",
        "# zfill() -\tFills the string with a specified number of 0 values at the beginning"
      ],
      "metadata": {
        "id": "gnR-4nvgODVl"
      },
      "execution_count": null,
      "outputs": []
    },
    {
      "cell_type": "markdown",
      "source": [
        "Python Operators\n",
        "\n",
        "- Arithmetic - Mathematical operations\n",
        "    - +, -, *, / *(division),% (Modulus)*, ** (Exponential), // (floor division)\n",
        "- Assignment - used to assign values to variables\n",
        "    - = , += (x +=3 => x=x+3), -=, *=, /=, %=, //=, **=, &= (AND), |=, ^=, >>=,<<=\n",
        "- Comparison - Compare 2 values\n",
        "    - ==, !=, >, <, >=, <=\n",
        "- Logical - Used to combine conditional statements\n",
        "    - and, or, not\n",
        "- Identity - check if both the variables are the same object with the same memory location\n",
        "    - is (returns True if both variables are same object), is not\n",
        "- Membership - test if a sequence is present in an object\n",
        "    - in (returns True if a specified sequence is present in the object), not in\n",
        "- Bitwise - used to compare binary numbers\n",
        "    - &, |, ^(xor - returns True if only 1 value is 1), ~ (not), << (shift left by the specified numver of zeros and let the leftmost bits fall off, x<<2), >>"
      ],
      "metadata": {
        "id": "lKFnezAWRBt9"
      }
    },
    {
      "cell_type": "markdown",
      "source": [
        "Arrays:\n",
        "\n",
        "- List - ordered and changeable. allows duplicate\n",
        "- Tuples - ordered and unchangeable. allows duplicate\n",
        "- Set - unordered, unchangeable and unindexed. no duplicates allowed\n",
        "- Dictionary - ordered and changeable. noo duplicates allowed"
      ],
      "metadata": {
        "id": "KIr6Kv0Na4se"
      }
    },
    {
      "cell_type": "markdown",
      "source": [
        "List\n",
        "\n",
        "- Used to store multiple items in the same variable.\n",
        "- Allow duplicate values\n",
        "- denoted with []\n",
        "- first item is always indexed with [0]\n",
        "- use list() consturctor to create list\n",
        "  - fruits = list(('Apple', 'Banana'))"
      ],
      "metadata": {
        "id": "N5CjtK8AXNYh"
      }
    },
    {
      "cell_type": "code",
      "source": [
        "# List length\n",
        "\n",
        "fruits =['Apple', 'Orange', 'Mango']\n",
        "print(len(fruits))"
      ],
      "metadata": {
        "colab": {
          "base_uri": "https://localhost:8080/"
        },
        "id": "ocXcDwc80ikj",
        "outputId": "5dc6df74-1222-43cd-f1eb-4c30c1d07c25"
      },
      "execution_count": 1,
      "outputs": [
        {
          "output_type": "stream",
          "name": "stdout",
          "text": [
            "3\n"
          ]
        }
      ]
    },
    {
      "cell_type": "code",
      "source": [
        "# create list using list() constructor\n",
        "\n",
        "fruits=list(('Apple', 'Banana', 'Mango'))\n",
        "print(fruits)"
      ],
      "metadata": {
        "colab": {
          "base_uri": "https://localhost:8080/"
        },
        "id": "j53BXqzn02G0",
        "outputId": "27059c2a-5144-47ea-eb11-a17e921f00af"
      },
      "execution_count": 2,
      "outputs": [
        {
          "output_type": "stream",
          "name": "stdout",
          "text": [
            "['Apple', 'Banana', 'Mango']\n"
          ]
        }
      ]
    },
    {
      "cell_type": "code",
      "source": [
        "# search will start at 1 included and 2 excluded\n",
        "\n",
        "print(fruits[1:2])\n",
        "\n",
        "# print all from first will 2nd index\n",
        "\n",
        "print(fruits[:2])\n",
        "\n",
        "# print all from 1st index till last\n",
        "\n",
        "print(fruits[1:])\n",
        "\n",
        "# Negative indexes\n",
        "\n",
        "print(fruits[-2:])"
      ],
      "metadata": {
        "colab": {
          "base_uri": "https://localhost:8080/"
        },
        "id": "F5LDiHh61Vnj",
        "outputId": "f1a82e97-4daf-47e2-b553-d893aa514791"
      },
      "execution_count": 12,
      "outputs": [
        {
          "output_type": "stream",
          "name": "stdout",
          "text": [
            "['Banana']\n",
            "['Apple', 'Banana']\n",
            "['Banana', 'Mango']\n",
            "['Banana', 'Mango']\n"
          ]
        }
      ]
    },
    {
      "cell_type": "code",
      "source": [
        "# check if item exists\n",
        "\n",
        "if 'Apple' in fruits:\n",
        "  print('True')"
      ],
      "metadata": {
        "colab": {
          "base_uri": "https://localhost:8080/"
        },
        "id": "-jPzQoi91uSE",
        "outputId": "04c723ed-3d87-4fbd-e56e-3ac4e68fc84d"
      },
      "execution_count": 4,
      "outputs": [
        {
          "output_type": "stream",
          "name": "stdout",
          "text": [
            "True\n"
          ]
        }
      ]
    },
    {
      "cell_type": "code",
      "source": [
        "# Insert item in list\n",
        "\n",
        "fruits =['Apple', 'Orange', 'Mango']\n",
        "fruits.insert(2,'watermelon') #insert(postiion, item)\n",
        "print(fruits)"
      ],
      "metadata": {
        "colab": {
          "base_uri": "https://localhost:8080/"
        },
        "id": "T7q1tW0Efrk5",
        "outputId": "b683d011-aff3-4979-8d5f-8509ee146040"
      },
      "execution_count": 16,
      "outputs": [
        {
          "output_type": "stream",
          "name": "stdout",
          "text": [
            "['Apple', 'Orange', 'watermelon', 'Mango']\n"
          ]
        }
      ]
    },
    {
      "cell_type": "code",
      "source": [
        "# add item to end of the list\n",
        "\n",
        "fruits.append('Cherry')\n",
        "print(fruits)"
      ],
      "metadata": {
        "colab": {
          "base_uri": "https://localhost:8080/"
        },
        "id": "MO23_hA7gxCj",
        "outputId": "4b64cd22-2ef3-49b1-972e-3dc81b7e07e7"
      },
      "execution_count": 17,
      "outputs": [
        {
          "output_type": "stream",
          "name": "stdout",
          "text": [
            "['Apple', 'Orange', 'watermelon', 'Mango', 'Cherry']\n"
          ]
        }
      ]
    },
    {
      "cell_type": "code",
      "source": [
        "# insert item in list\n",
        "\n",
        "fruits.insert(1, 'Pear')\n",
        "print(fruits)"
      ],
      "metadata": {
        "colab": {
          "base_uri": "https://localhost:8080/"
        },
        "id": "v4XN0vNRhN3g",
        "outputId": "c458fc66-58c0-4018-9a2c-6e6fafca2681"
      },
      "execution_count": 18,
      "outputs": [
        {
          "output_type": "stream",
          "name": "stdout",
          "text": [
            "['Apple', 'Pear', 'Orange', 'watermelon', 'Mango', 'Cherry']\n"
          ]
        }
      ]
    },
    {
      "cell_type": "code",
      "source": [
        "# append items of one list to current list\n",
        "\n",
        "tropical = ['Pineapple', 'Grapes']\n",
        "fruits.extend(tropical)\n",
        "print(fruits)\n",
        "\n",
        "# The extend() method does not have to append lists, you can add any iterable object (tuples, sets, dictionaries etc.)."
      ],
      "metadata": {
        "colab": {
          "base_uri": "https://localhost:8080/"
        },
        "id": "xc4OJQ3khcyC",
        "outputId": "c9f45c85-eedc-4601-f15a-2103702eff68"
      },
      "execution_count": 19,
      "outputs": [
        {
          "output_type": "stream",
          "name": "stdout",
          "text": [
            "['Apple', 'Pear', 'Orange', 'watermelon', 'Mango', 'Cherry', 'Pineapple', 'Grapes']\n"
          ]
        }
      ]
    },
    {
      "cell_type": "code",
      "source": [
        "# remove specified item in list\n",
        "\n",
        "fruits.remove('Cherry')\n",
        "print(fruits)"
      ],
      "metadata": {
        "colab": {
          "base_uri": "https://localhost:8080/"
        },
        "id": "x3PHQVmiiKx1",
        "outputId": "3210a56c-746b-4c93-e7c4-c5d375bd60c3"
      },
      "execution_count": 20,
      "outputs": [
        {
          "output_type": "stream",
          "name": "stdout",
          "text": [
            "['Apple', 'Pear', 'Orange', 'watermelon', 'Mango', 'Pineapple', 'Grapes']\n"
          ]
        }
      ]
    },
    {
      "cell_type": "code",
      "source": [
        "# remove an item from a specified list through index\n",
        "\n",
        "fruits.pop(1)\n",
        "print(fruits)"
      ],
      "metadata": {
        "colab": {
          "base_uri": "https://localhost:8080/"
        },
        "id": "rUTHojxUiXuK",
        "outputId": "3e19285f-1708-4a13-8d31-4033e00a4fdf"
      },
      "execution_count": 21,
      "outputs": [
        {
          "output_type": "stream",
          "name": "stdout",
          "text": [
            "['Apple', 'Orange', 'watermelon', 'Mango', 'Pineapple', 'Grapes']\n"
          ]
        }
      ]
    },
    {
      "cell_type": "code",
      "source": [
        "# remove an item from a specified list through index\n",
        "\n",
        "del fruits[2]\n",
        "print(fruits)"
      ],
      "metadata": {
        "colab": {
          "base_uri": "https://localhost:8080/"
        },
        "id": "dKUoWJRyil5N",
        "outputId": "6ebf3203-8b52-4bc2-b509-415875fd8eb2"
      },
      "execution_count": 22,
      "outputs": [
        {
          "output_type": "stream",
          "name": "stdout",
          "text": [
            "['Apple', 'Orange', 'Mango', 'Pineapple', 'Grapes']\n"
          ]
        }
      ]
    },
    {
      "cell_type": "code",
      "source": [
        "# remove the entire list\n",
        "\n",
        "del fruits"
      ],
      "metadata": {
        "id": "aaBA8a-8i1FR"
      },
      "execution_count": 23,
      "outputs": []
    },
    {
      "cell_type": "code",
      "source": [
        "# clear the list\n",
        "\n",
        "fruits =['Apple','Banana', 'Mango']\n",
        "fruits.clear()\n",
        "print(fruits)"
      ],
      "metadata": {
        "colab": {
          "base_uri": "https://localhost:8080/"
        },
        "id": "o950-sa3pX8z",
        "outputId": "cfce53da-8376-4d72-d6fa-410344fa0cc3"
      },
      "execution_count": 24,
      "outputs": [
        {
          "output_type": "stream",
          "name": "stdout",
          "text": [
            "[]\n"
          ]
        }
      ]
    },
    {
      "cell_type": "code",
      "source": [
        "# Loop through a list\n",
        "\n",
        "fruits =['Apple','Banana', 'Mango']\n",
        "for x in fruits:\n",
        "  print(x)"
      ],
      "metadata": {
        "colab": {
          "base_uri": "https://localhost:8080/"
        },
        "id": "9pdKZzJp54q3",
        "outputId": "fe3b8798-4cd6-4dfb-ac14-a528e98d15dc"
      },
      "execution_count": 25,
      "outputs": [
        {
          "output_type": "stream",
          "name": "stdout",
          "text": [
            "Apple\n",
            "Banana\n",
            "Mango\n"
          ]
        }
      ]
    },
    {
      "cell_type": "code",
      "source": [
        "# loop through index numbers\n",
        "\n",
        "for steps in range(len(fruits)):\n",
        "  print(fruits[steps])"
      ],
      "metadata": {
        "colab": {
          "base_uri": "https://localhost:8080/"
        },
        "id": "J3mrPWm66RZo",
        "outputId": "403b947f-700a-4f77-8509-33bba9ec8e39"
      },
      "execution_count": 28,
      "outputs": [
        {
          "output_type": "stream",
          "name": "stdout",
          "text": [
            "Apple\n",
            "Banana\n",
            "Mango\n"
          ]
        }
      ]
    },
    {
      "cell_type": "code",
      "source": [
        "# iterate through a list using while loop\n",
        "\n",
        "counter=0\n",
        "while counter<len(fruits):\n",
        "  print(fruits[counter])\n",
        "  counter= counter+1"
      ],
      "metadata": {
        "colab": {
          "base_uri": "https://localhost:8080/"
        },
        "id": "pvgYnVFD6fs-",
        "outputId": "c8bb2921-aa71-4af3-d873-319d173843a6"
      },
      "execution_count": 30,
      "outputs": [
        {
          "output_type": "stream",
          "name": "stdout",
          "text": [
            "Apple\n",
            "Banana\n",
            "Mango\n"
          ]
        }
      ]
    },
    {
      "cell_type": "code",
      "source": [
        "# Looping using list comprehension\n",
        "\n",
        "fruits =['Apple','Banana', 'Mango','Cherry']\n",
        "[print(x) for x in fruits]\n"
      ],
      "metadata": {
        "colab": {
          "base_uri": "https://localhost:8080/"
        },
        "id": "lb-3P3c_68Rp",
        "outputId": "49b90f97-adc4-4a11-a80d-27e5f50f79aa"
      },
      "execution_count": 42,
      "outputs": [
        {
          "output_type": "stream",
          "name": "stdout",
          "text": [
            "Apple\n",
            "Banana\n",
            "Mango\n",
            "Cherry\n"
          ]
        },
        {
          "output_type": "execute_result",
          "data": {
            "text/plain": [
              "[None, None, None, None]"
            ]
          },
          "metadata": {},
          "execution_count": 42
        }
      ]
    },
    {
      "cell_type": "code",
      "source": [
        "# List Comprehesion offers short syntax when you want to create a new list based on the values of existing list\n",
        "\n",
        "# new_list=[]\n",
        "\n",
        "# for steps in fruits:\n",
        "#   if 'n' in steps:\n",
        "#     new_list.append(steps)\n",
        "\n",
        "# print(new_list)\n",
        "\n",
        "new_list=[steps for steps in fruits if 'n' in steps]\n",
        "print(new_listx)\n",
        ""
      ],
      "metadata": {
        "colab": {
          "base_uri": "https://localhost:8080/"
        },
        "id": "1lry9uS77i3f",
        "outputId": "a784cf75-2f47-44c3-9ed2-71cb32dda73b"
      },
      "execution_count": 37,
      "outputs": [
        {
          "output_type": "stream",
          "name": "stdout",
          "text": [
            "['Banana', 'Mango']\n"
          ]
        }
      ]
    },
    {
      "cell_type": "code",
      "source": [
        "# Sort list alphabetically\n",
        "# This is case-sensitive\n",
        "\n",
        "fruits.sort()\n",
        "print(fruits)"
      ],
      "metadata": {
        "colab": {
          "base_uri": "https://localhost:8080/"
        },
        "id": "UQlVSVtKBkYH",
        "outputId": "17c7374e-1e90-4f85-ad8f-d197cfcf1884"
      },
      "execution_count": 43,
      "outputs": [
        {
          "output_type": "stream",
          "name": "stdout",
          "text": [
            "['Apple', 'Banana', 'Cherry', 'Mango']\n"
          ]
        }
      ]
    },
    {
      "cell_type": "code",
      "source": [
        "# Sort descending\n",
        "\n",
        "fruits.sort(reverse=True)\n",
        "print(fruits)"
      ],
      "metadata": {
        "colab": {
          "base_uri": "https://localhost:8080/"
        },
        "id": "6uB6iivWCNs7",
        "outputId": "a319bc98-6728-4b7d-d35e-6c2a515e81c9"
      },
      "execution_count": 44,
      "outputs": [
        {
          "output_type": "stream",
          "name": "stdout",
          "text": [
            "['Mango', 'Cherry', 'Banana', 'Apple']\n"
          ]
        }
      ]
    },
    {
      "cell_type": "code",
      "source": [
        "# Sort the list as to how close it is to a certain number\n",
        "# customize sort function\n",
        "\n",
        "def new_sort(n):\n",
        "  return abs(n-80)\n",
        "\n",
        "num =[45, 67, 80, 24, 100]\n",
        "num.sort(key=new_sort)\n",
        "print(num)"
      ],
      "metadata": {
        "colab": {
          "base_uri": "https://localhost:8080/"
        },
        "id": "B3csU9mZCt7S",
        "outputId": "408bd03c-c2f4-4dfa-ad14-dc245bc2dc26"
      },
      "execution_count": 52,
      "outputs": [
        {
          "output_type": "stream",
          "name": "stdout",
          "text": [
            "[80, 67, 100, 45, 24]\n"
          ]
        }
      ]
    },
    {
      "cell_type": "code",
      "source": [
        "# Sort with case insensitive\n",
        "\n",
        "fruits.sort(key=str.lower)\n",
        "print(fruits)"
      ],
      "metadata": {
        "colab": {
          "base_uri": "https://localhost:8080/"
        },
        "id": "Az8nRPNsEAW5",
        "outputId": "63576d66-14c0-4d15-dcd6-68c597659044"
      },
      "execution_count": 53,
      "outputs": [
        {
          "output_type": "stream",
          "name": "stdout",
          "text": [
            "['Apple', 'Banana', 'Cherry', 'Mango']\n"
          ]
        }
      ]
    },
    {
      "cell_type": "code",
      "source": [
        "# copy a list\n",
        "\n",
        "new_list=fruits.copy()\n",
        "print(new_list)\n",
        "\n",
        "# Copy with list contructor\n",
        "\n",
        "mylist=list(fruits)\n",
        "print(mylist)"
      ],
      "metadata": {
        "colab": {
          "base_uri": "https://localhost:8080/"
        },
        "id": "N66Nz2m2Eoqs",
        "outputId": "e644713f-954f-4239-fec4-2d2482ee9e37"
      },
      "execution_count": 55,
      "outputs": [
        {
          "output_type": "stream",
          "name": "stdout",
          "text": [
            "['Apple', 'Banana', 'Cherry', 'Mango']\n",
            "['Apple', 'Banana', 'Cherry', 'Mango']\n"
          ]
        }
      ]
    },
    {
      "cell_type": "code",
      "source": [
        "# join 2 lists\n",
        "\n",
        "print(new_list+mylist)"
      ],
      "metadata": {
        "colab": {
          "base_uri": "https://localhost:8080/"
        },
        "id": "X07gqionFDd-",
        "outputId": "4dc0d8d1-a99d-4acc-a690-96766f4b50c3"
      },
      "execution_count": 56,
      "outputs": [
        {
          "output_type": "stream",
          "name": "stdout",
          "text": [
            "['Apple', 'Banana', 'Cherry', 'Mango', 'Apple', 'Banana', 'Cherry', 'Mango']\n"
          ]
        }
      ]
    },
    {
      "cell_type": "markdown",
      "source": [
        "**Tuples**\n",
        "\n",
        "Store multiple items in single variable\n",
        "\n",
        "this is ordered and unchangeable(change, remove or add items) and allows duplicate"
      ],
      "metadata": {
        "id": "E-hhg6sJG86y"
      }
    },
    {
      "cell_type": "code",
      "source": [
        "tup=('Apple', 'Cherry', 'Banana')\n",
        "print(tup)\n",
        "print(type(tup))\n",
        "\n",
        "# length of tuple\n",
        "\n",
        "print(len(tup))"
      ],
      "metadata": {
        "colab": {
          "base_uri": "https://localhost:8080/"
        },
        "id": "fDKMpbt8HI12",
        "outputId": "39ac9147-e872-421d-d31b-ee0776deb87b"
      },
      "execution_count": 62,
      "outputs": [
        {
          "output_type": "stream",
          "name": "stdout",
          "text": [
            "('Apple', 'Cherry', 'Banana')\n",
            "<class 'tuple'>\n",
            "3\n",
            "<class 'str'>\n",
            "<class 'tuple'>\n"
          ]
        }
      ]
    },
    {
      "cell_type": "code",
      "source": [
        "# tuple with one item\n",
        "\n",
        "# not a tuple\n",
        "tup1 = ('Apple')\n",
        "print(type(tup1))\n",
        "\n",
        "# tuple\n",
        "tup1=('Apple',)\n",
        "print(type(tup1))\n"
      ],
      "metadata": {
        "colab": {
          "base_uri": "https://localhost:8080/"
        },
        "id": "WIlDgLl0INCN",
        "outputId": "c938dc6f-8d7f-45aa-9923-3576b6f7008b"
      },
      "execution_count": 63,
      "outputs": [
        {
          "output_type": "stream",
          "name": "stdout",
          "text": [
            "<class 'str'>\n",
            "<class 'tuple'>\n"
          ]
        }
      ]
    },
    {
      "cell_type": "code",
      "source": [
        "# create tuple with tuple() constructor\n",
        "\n",
        "tup=tuple(('Apple','Cherry','Strawberry','Mango'))\n",
        "print(tup)\n",
        "\n",
        "# Access tuple items through index\n",
        "print(tup[1])\n",
        "\n",
        "# negative indexing\n",
        "print(tup[-1])\n",
        "\n",
        "# range of indexes\n",
        "# 1 is included and 3 excluded\n",
        "print(tup[1:3])"
      ],
      "metadata": {
        "colab": {
          "base_uri": "https://localhost:8080/"
        },
        "id": "eSIevowpITe5",
        "outputId": "6f0f0e45-49a0-423a-e321-57184db67493"
      },
      "execution_count": 80,
      "outputs": [
        {
          "output_type": "stream",
          "name": "stdout",
          "text": [
            "('Apple', 'Cherry', 'Strawberry', 'Mango')\n",
            "Cherry\n",
            "Mango\n",
            "('Cherry', 'Strawberry')\n"
          ]
        }
      ]
    },
    {
      "cell_type": "code",
      "source": [
        "# check if item exists\n",
        "\n",
        "if \"Cherry\" in tup:\n",
        "  print('True')"
      ],
      "metadata": {
        "colab": {
          "base_uri": "https://localhost:8080/"
        },
        "id": "OY2Asq6aKbck",
        "outputId": "e56ceaaa-4a84-4bd3-ef36-9730e768edb3"
      },
      "execution_count": 81,
      "outputs": [
        {
          "output_type": "stream",
          "name": "stdout",
          "text": [
            "True\n"
          ]
        }
      ]
    },
    {
      "cell_type": "code",
      "source": [
        "# tuples are immutable or unchangeable. to change an item in tuple convert it to list\n",
        "\n",
        "lst=list(tup)\n",
        "lst[2]=\"Watermelon\"\n",
        "tup=tuple(lst)\n",
        "print(tup)\n",
        "\n",
        "# same can be done to append, remove, pop, insert items\n",
        "# del can be used to delete complete tuple"
      ],
      "metadata": {
        "colab": {
          "base_uri": "https://localhost:8080/"
        },
        "id": "JBZU-XTZKy46",
        "outputId": "1387af52-bc34-4353-954d-d973bae70813"
      },
      "execution_count": 82,
      "outputs": [
        {
          "output_type": "stream",
          "name": "stdout",
          "text": [
            "('Apple', 'Cherry', 'Watermelon', 'Mango')\n"
          ]
        }
      ]
    },
    {
      "cell_type": "code",
      "source": [
        "# add tuple to tuple\n",
        "\n",
        "tup1=('Orange',)\n",
        "tup = tup+tup1\n",
        "print(tup)"
      ],
      "metadata": {
        "colab": {
          "base_uri": "https://localhost:8080/"
        },
        "id": "InU5IRy0MjpT",
        "outputId": "7ab46eb9-4f4d-4d99-cdb2-913add807ab1"
      },
      "execution_count": 83,
      "outputs": [
        {
          "output_type": "stream",
          "name": "stdout",
          "text": [
            "('Apple', 'Cherry', 'Watermelon', 'Mango', 'Orange')\n"
          ]
        }
      ]
    },
    {
      "cell_type": "code",
      "source": [
        "# packing a tuple\n",
        "\n",
        "tup=('Apple', 'Banana','Orange')\n",
        "print(tup)\n",
        "\n",
        "# unpacking a tuple. extract tuple values to variables\n",
        "(red, yellow, orange)=tup\n",
        "print(red)"
      ],
      "metadata": {
        "colab": {
          "base_uri": "https://localhost:8080/"
        },
        "id": "YKi3yURMN9ka",
        "outputId": "99e6e283-3c25-4ea0-e308-6884c3cc7a21"
      },
      "execution_count": 85,
      "outputs": [
        {
          "output_type": "stream",
          "name": "stdout",
          "text": [
            "('Apple', 'Banana', 'Orange')\n",
            "Apple\n"
          ]
        }
      ]
    },
    {
      "cell_type": "code",
      "source": [
        "# Using *Asterik for assigning variables when the number of variables are less than the items\n",
        "\n",
        "tup=('Apple', 'Banana','Orange')\n",
        "(red,*yellow)=tup\n",
        "\n",
        "print(red)\n",
        "print(yellow) #remaining items are assigned to variable as list"
      ],
      "metadata": {
        "colab": {
          "base_uri": "https://localhost:8080/"
        },
        "id": "Q1BIzliQOkMY",
        "outputId": "f559dfc2-65d7-464b-e89f-3f6e97bda715"
      },
      "execution_count": 87,
      "outputs": [
        {
          "output_type": "stream",
          "name": "stdout",
          "text": [
            "Apple\n",
            "['Banana', 'Orange']\n"
          ]
        }
      ]
    },
    {
      "cell_type": "code",
      "source": [
        "# loop through tuple index numbers\n",
        "\n",
        "for steps in range(len(tup)):\n",
        "  print(tup[steps])\n",
        "\n",
        "count=0\n",
        "while count<len(tup):\n",
        "  print(tup[count])\n",
        "  count += 1"
      ],
      "metadata": {
        "colab": {
          "base_uri": "https://localhost:8080/"
        },
        "id": "tQipJlefPcra",
        "outputId": "925c8b00-9a22-4525-e7c5-8957431d6eb1"
      },
      "execution_count": 89,
      "outputs": [
        {
          "output_type": "stream",
          "name": "stdout",
          "text": [
            "Apple\n",
            "Banana\n",
            "Orange\n",
            "Apple\n",
            "Banana\n",
            "Orange\n"
          ]
        }
      ]
    },
    {
      "cell_type": "code",
      "source": [
        "# join 2 tuples\n",
        "\n",
        "tup1=('Mango', 'Pear')\n",
        "\n",
        "tup3=tup+tup1\n",
        "print(tup3)"
      ],
      "metadata": {
        "colab": {
          "base_uri": "https://localhost:8080/"
        },
        "id": "zrGLBjjrQJxi",
        "outputId": "b6b484ec-d785-4420-aaf8-6bd39d1cf8e5"
      },
      "execution_count": 91,
      "outputs": [
        {
          "output_type": "stream",
          "name": "stdout",
          "text": [
            "('Apple', 'Banana', 'Orange', 'Mango', 'Pear')\n"
          ]
        }
      ]
    },
    {
      "cell_type": "markdown",
      "source": [
        "**Sets**\n",
        "\n",
        "store muliple items in a variable\n",
        "sets are unordered, unindexed and unchangeable\n",
        "\n",
        "Once a set is created, you cannot change its items, but you can remove items and add new items."
      ],
      "metadata": {
        "id": "Y2f9RIL0RPt6"
      }
    },
    {
      "cell_type": "code",
      "source": [
        "st={'Apple','Banana','Strawberry','Cherry'}\n",
        "print(st)\n",
        "\n",
        "print(type(st))\n",
        "\n",
        "print(len(st))"
      ],
      "metadata": {
        "colab": {
          "base_uri": "https://localhost:8080/"
        },
        "id": "wtu-QbL6RewR",
        "outputId": "d0482da5-8419-4f68-938b-557a453b130e"
      },
      "execution_count": 94,
      "outputs": [
        {
          "output_type": "stream",
          "name": "stdout",
          "text": [
            "{'Apple', 'Strawberry', 'Banana', 'Cherry'}\n",
            "<class 'set'>\n",
            "4\n"
          ]
        }
      ]
    },
    {
      "cell_type": "code",
      "source": [
        "# Create set using set() constructor\n",
        "\n",
        "st=set(('Apple', 'Cherry', 'Mango'))\n",
        "print(st)\n",
        "\n",
        "# the set list is unordered, so the result will display the items in a random order"
      ],
      "metadata": {
        "colab": {
          "base_uri": "https://localhost:8080/"
        },
        "id": "Q8C1vcT2SC5Y",
        "outputId": "94009006-0322-4ab2-9c44-8cf58784e546"
      },
      "execution_count": 103,
      "outputs": [
        {
          "output_type": "stream",
          "name": "stdout",
          "text": [
            "{'Apple', 'Mango', 'Cherry'}\n"
          ]
        }
      ]
    },
    {
      "cell_type": "code",
      "source": [
        "# access items in set\n",
        "\n",
        "for x in st:\n",
        "  print(x)"
      ],
      "metadata": {
        "colab": {
          "base_uri": "https://localhost:8080/"
        },
        "id": "4JEPD-NFSqiE",
        "outputId": "eebecba9-50f9-4191-a437-3853eb1da6ae"
      },
      "execution_count": 102,
      "outputs": [
        {
          "output_type": "stream",
          "name": "stdout",
          "text": [
            "Apple\n",
            "Mango\n",
            "Cherry\n"
          ]
        }
      ]
    },
    {
      "cell_type": "code",
      "source": [
        "# check if an item is present in set\n",
        "\n",
        "print('Apple' in st)"
      ],
      "metadata": {
        "colab": {
          "base_uri": "https://localhost:8080/"
        },
        "id": "0l3JW7ORS1fp",
        "outputId": "84d49ead-7b0a-4fbc-e3f4-fa7c2741b937"
      },
      "execution_count": 104,
      "outputs": [
        {
          "output_type": "stream",
          "name": "stdout",
          "text": [
            "True\n"
          ]
        }
      ]
    },
    {
      "cell_type": "code",
      "source": [
        "# Add items\n",
        "\n",
        "st.add('Orange')\n",
        "print(st)\n",
        "\n",
        "# Add items from another set into the current set\n",
        "st1={'Pear','Grapes'}\n",
        "st.update(st1)\n",
        "print(st)\n",
        "\n",
        "# The object in the update() method does not have to be a set, it can be any iterable object (tuples, lists, dictionaries etc.)"
      ],
      "metadata": {
        "colab": {
          "base_uri": "https://localhost:8080/"
        },
        "id": "N6NV8v0XVy7D",
        "outputId": "48f319e2-0986-4e8b-b975-86c9ab862179"
      },
      "execution_count": 106,
      "outputs": [
        {
          "output_type": "stream",
          "name": "stdout",
          "text": [
            "{'Apple', 'Mango', 'Cherry', 'Orange'}\n",
            "{'Pear', 'Mango', 'Cherry', 'Orange', 'Apple', 'Grapes'}\n"
          ]
        }
      ]
    },
    {
      "cell_type": "code",
      "source": [
        "st={'Apple','Banana','Strawberry','Cherry'}\n",
        "\n",
        "# remove item\n",
        "\n",
        "st.remove(\"Banana\")\n",
        "print(st)\n",
        "\n",
        "# we can also use discard\n",
        "\n",
        "st.discard(\"Cherry\")\n",
        "print(st)\n",
        "\n",
        "# remove a random item using pop\n",
        "st.pop()\n",
        "print(st)\n",
        "\n",
        "# empty the set\n",
        "st.clear()\n",
        "print(st)\n",
        "\n",
        "# delete the set completely\n",
        "del st"
      ],
      "metadata": {
        "colab": {
          "base_uri": "https://localhost:8080/"
        },
        "id": "tQXQlA1IWlH2",
        "outputId": "0c0ef9cf-3e46-4570-a64b-8f69d019ed2d"
      },
      "execution_count": 114,
      "outputs": [
        {
          "output_type": "stream",
          "name": "stdout",
          "text": [
            "{'Apple', 'Strawberry', 'Cherry'}\n",
            "{'Apple', 'Strawberry'}\n",
            "{'Strawberry'}\n",
            "set()\n"
          ]
        }
      ]
    },
    {
      "cell_type": "code",
      "source": [
        "# join 2 sets\n",
        "\n",
        "st1={'Apple', 'Cherry', 'Banana'}\n",
        "st2={1,2,5,6,7}\n",
        "\n",
        "st3=st1.union(st2)\n",
        "print(st3)\n",
        "\n",
        "st1.update(st2)\n",
        "print(st1)"
      ],
      "metadata": {
        "colab": {
          "base_uri": "https://localhost:8080/"
        },
        "id": "M89cUrwGZgpw",
        "outputId": "aa027eec-3196-4e78-f55b-72d8ff598456"
      },
      "execution_count": 117,
      "outputs": [
        {
          "output_type": "stream",
          "name": "stdout",
          "text": [
            "{'Banana', 1, 2, 5, 6, 7, 'Cherry', 'Apple'}\n",
            "{'Banana', 1, 2, 5, 6, 7, 'Cherry', 'Apple'}\n"
          ]
        }
      ]
    },
    {
      "cell_type": "code",
      "source": [
        "# keep only the duplicates\n",
        "\n",
        "st1={'Apple', 'Cherry', 'Banana', 1,5,7}\n",
        "st2={1,2,5,6,7}\n",
        "\n",
        "st1.intersection_update(st2)\n",
        "print(st1)\n",
        "\n",
        "st3=st1.intersection(st2)\n",
        "print(st3)"
      ],
      "metadata": {
        "colab": {
          "base_uri": "https://localhost:8080/"
        },
        "id": "hF2KUrQMam34",
        "outputId": "64ab9c62-f187-4ae0-c07d-751e1af61fd9"
      },
      "execution_count": 119,
      "outputs": [
        {
          "output_type": "stream",
          "name": "stdout",
          "text": [
            "{1, 5, 7}\n",
            "{1, 5, 7}\n"
          ]
        }
      ]
    },
    {
      "cell_type": "code",
      "source": [
        "# Keep all except duplicates\n",
        "\n",
        "st1={'Apple', 'Cherry', 'Banana', 1,5,7}\n",
        "st2={1,2,5,6,7}\n",
        "\n",
        "st1.symmetric_difference_update(st2)\n",
        "print(st1)\n",
        "\n",
        "st3=st1.symmetric_difference(st2)\n",
        "print(st1)\n",
        "\n",
        "# True and 1 are considered the same"
      ],
      "metadata": {
        "colab": {
          "base_uri": "https://localhost:8080/"
        },
        "id": "-01ypN56b2cO",
        "outputId": "acd790db-dbdb-4929-ae20-fd056839b96b"
      },
      "execution_count": 123,
      "outputs": [
        {
          "output_type": "stream",
          "name": "stdout",
          "text": [
            "{'Banana', 2, 'Cherry', 'Apple', 6}\n",
            "{'Banana', 2, 'Cherry', 'Apple', 6}\n"
          ]
        }
      ]
    },
    {
      "cell_type": "markdown",
      "source": [
        "**Dictionaries**\n",
        "\n",
        "store values in key:value pairs\n",
        "this is ordered, changeable and do not allow duplicates"
      ],
      "metadata": {
        "id": "49N5a-mTdqJZ"
      }
    },
    {
      "cell_type": "code",
      "source": [
        "d1={\"Apple\":5, \"Banana\":4,\"Watermelon\":10, \"Cherry\":3}\n",
        "print(d1)\n",
        "\n",
        "print(type(d1))\n",
        "\n",
        "print(len(d1))"
      ],
      "metadata": {
        "colab": {
          "base_uri": "https://localhost:8080/"
        },
        "id": "oDFrNmQ2d5IS",
        "outputId": "273dd8fd-dfc5-4731-8e78-74103ddda6f7"
      },
      "execution_count": 127,
      "outputs": [
        {
          "output_type": "stream",
          "name": "stdout",
          "text": [
            "{'Apple': 5, 'Banana': 4, 'Watermelon': 10, 'Cherry': 3}\n",
            "<class 'dict'>\n",
            "4\n"
          ]
        }
      ]
    },
    {
      "cell_type": "code",
      "source": [
        "# Print value of a dictionary key\n",
        "\n",
        "print(d1['Apple'])"
      ],
      "metadata": {
        "colab": {
          "base_uri": "https://localhost:8080/"
        },
        "id": "-bo-PZTgeOXo",
        "outputId": "f8116496-3e28-4842-bb6c-b3b6e9b4cf0d"
      },
      "execution_count": 126,
      "outputs": [
        {
          "output_type": "stream",
          "name": "stdout",
          "text": [
            "5\n"
          ]
        }
      ]
    },
    {
      "cell_type": "code",
      "source": [
        "# create dictionary using dict() constructor\n",
        "\n",
        "d1=dict(name='John', age=30, country='India')\n",
        "print(d1)"
      ],
      "metadata": {
        "colab": {
          "base_uri": "https://localhost:8080/"
        },
        "id": "VfpASw2Ge75h",
        "outputId": "dfc6b7da-f4c6-4402-8c0c-70a59560a4c2"
      },
      "execution_count": 1,
      "outputs": [
        {
          "output_type": "stream",
          "name": "stdout",
          "text": [
            "{'name': 'John', 'age': 30, 'country': 'India'}\n"
          ]
        }
      ]
    },
    {
      "cell_type": "code",
      "source": [
        "# Access values in dictionary\n",
        "\n",
        "print(d1['name'])\n",
        "\n",
        "# Access value using get()\n",
        "\n",
        "print(d1.get('name'))"
      ],
      "metadata": {
        "colab": {
          "base_uri": "https://localhost:8080/"
        },
        "id": "SJPuWVKCc4zq",
        "outputId": "4aec14d4-0404-4911-ac75-1a7f84aaea03"
      },
      "execution_count": 4,
      "outputs": [
        {
          "output_type": "stream",
          "name": "stdout",
          "text": [
            "John\n",
            "John\n"
          ]
        }
      ]
    },
    {
      "cell_type": "code",
      "source": [
        "# keys() method to get all the keys in the dictionary\n",
        "\n",
        "print(d1.keys())"
      ],
      "metadata": {
        "colab": {
          "base_uri": "https://localhost:8080/"
        },
        "id": "vhlK4JswdKIg",
        "outputId": "b9d598d6-8dbe-44f0-c29e-1575133dce71"
      },
      "execution_count": 6,
      "outputs": [
        {
          "output_type": "stream",
          "name": "stdout",
          "text": [
            "dict_keys(['name', 'age', 'country'])\n"
          ]
        }
      ]
    },
    {
      "cell_type": "code",
      "source": [
        "# Add new item in dict\n",
        "\n",
        "d1['salary']=10000\n",
        "print(d1)"
      ],
      "metadata": {
        "colab": {
          "base_uri": "https://localhost:8080/"
        },
        "id": "H3LPfrZld368",
        "outputId": "ad359fd6-bcf6-4b32-b92d-9fe873d963d0"
      },
      "execution_count": 7,
      "outputs": [
        {
          "output_type": "stream",
          "name": "stdout",
          "text": [
            "{'name': 'John', 'age': 30, 'country': 'India', 'salary': 10000}\n"
          ]
        }
      ]
    },
    {
      "cell_type": "code",
      "source": [
        "# get values in the dict\n",
        "\n",
        "print(d1.values())"
      ],
      "metadata": {
        "colab": {
          "base_uri": "https://localhost:8080/"
        },
        "id": "OE9fkK9meE9G",
        "outputId": "4f8306d0-729f-4880-ad6f-7785860b2976"
      },
      "execution_count": 8,
      "outputs": [
        {
          "output_type": "stream",
          "name": "stdout",
          "text": [
            "dict_values(['John', 30, 'India', 10000])\n"
          ]
        }
      ]
    },
    {
      "cell_type": "code",
      "source": [
        "# return each value in a dictionary\n",
        "\n",
        "print(d1.items())"
      ],
      "metadata": {
        "colab": {
          "base_uri": "https://localhost:8080/"
        },
        "id": "EZJu1jqBeQJl",
        "outputId": "5ae38ef1-5ff1-44c2-cca3-f0709fa91a52"
      },
      "execution_count": 9,
      "outputs": [
        {
          "output_type": "stream",
          "name": "stdout",
          "text": [
            "dict_items([('name', 'John'), ('age', 30), ('country', 'India'), ('salary', 10000)])\n"
          ]
        }
      ]
    },
    {
      "cell_type": "code",
      "source": [
        "# update value in a dictionary\n",
        "\n",
        "d1['country']='Norway'\n",
        "print(d1)"
      ],
      "metadata": {
        "colab": {
          "base_uri": "https://localhost:8080/"
        },
        "id": "p-QT3QNIeZiL",
        "outputId": "e66f6633-fe6a-47bf-f760-b2169daa93ce"
      },
      "execution_count": 10,
      "outputs": [
        {
          "output_type": "stream",
          "name": "stdout",
          "text": [
            "{'name': 'John', 'age': 30, 'country': 'Norway', 'salary': 10000}\n"
          ]
        }
      ]
    },
    {
      "cell_type": "code",
      "source": [
        "# check if key exists in dictionary\n",
        "\n",
        "if 'name' in d1:\n",
        "  print(True)"
      ],
      "metadata": {
        "colab": {
          "base_uri": "https://localhost:8080/"
        },
        "id": "mmH8kHiUfA4Q",
        "outputId": "0d12b260-07e0-4bd0-ce1d-7da37276d508"
      },
      "execution_count": 11,
      "outputs": [
        {
          "output_type": "stream",
          "name": "stdout",
          "text": [
            "True\n"
          ]
        }
      ]
    },
    {
      "cell_type": "code",
      "source": [
        "# update value in dictionary\n",
        "\n",
        "d1.update({'name':'Himanshu'})\n",
        "print(d1)"
      ],
      "metadata": {
        "colab": {
          "base_uri": "https://localhost:8080/"
        },
        "id": "AhAfSekMfZV9",
        "outputId": "a62adc9d-83c6-4c1b-de75-08f9f6a6b9dd"
      },
      "execution_count": 14,
      "outputs": [
        {
          "output_type": "stream",
          "name": "stdout",
          "text": [
            "{'name': 'Himanshu', 'age': 30, 'country': 'Norway', 'salary': 10000}\n"
          ]
        }
      ]
    },
    {
      "cell_type": "code",
      "source": [
        "# remove item from dictionary\n",
        "\n",
        "d1.pop('country')\n",
        "print(d1)"
      ],
      "metadata": {
        "colab": {
          "base_uri": "https://localhost:8080/"
        },
        "id": "8wQM4_yNiyX2",
        "outputId": "b3e0ecb2-c3d8-4042-84a6-8655e69536b4"
      },
      "execution_count": 15,
      "outputs": [
        {
          "output_type": "stream",
          "name": "stdout",
          "text": [
            "{'name': 'Himanshu', 'age': 30, 'salary': 10000}\n"
          ]
        }
      ]
    },
    {
      "cell_type": "code",
      "source": [
        "# remove the last inserted item\n",
        "\n",
        "d1={\"Apple\":5, \"Banana\":4,\"Watermelon\":10, \"Cherry\":3}\n",
        "\n",
        "d1.popitem()\n",
        "print(d1)"
      ],
      "metadata": {
        "colab": {
          "base_uri": "https://localhost:8080/"
        },
        "id": "ad6tYLqQkTKx",
        "outputId": "4fc21797-bf2f-48ef-9a9f-435a2edc8467"
      },
      "execution_count": 5,
      "outputs": [
        {
          "output_type": "stream",
          "name": "stdout",
          "text": [
            "{'Apple': 5, 'Banana': 4, 'Watermelon': 10}\n"
          ]
        }
      ]
    },
    {
      "cell_type": "code",
      "source": [
        "# remove specific item in a dictionary\n",
        "\n",
        "del d1['Banana']\n",
        "print(d1)\n",
        "\n",
        "# del keyword can also be used to delete the dictionary completely"
      ],
      "metadata": {
        "colab": {
          "base_uri": "https://localhost:8080/"
        },
        "id": "nJOJ-z5Z4PjI",
        "outputId": "fe1251a9-1569-43c1-9c14-5d87403cd0a5"
      },
      "execution_count": 6,
      "outputs": [
        {
          "output_type": "stream",
          "name": "stdout",
          "text": [
            "{'Apple': 5, 'Watermelon': 10}\n"
          ]
        }
      ]
    },
    {
      "cell_type": "code",
      "source": [
        "# clear keyword empties the dictionary\n",
        "\n",
        "d1.clear()\n",
        "print(d1)"
      ],
      "metadata": {
        "colab": {
          "base_uri": "https://localhost:8080/"
        },
        "id": "eQmV-d8y4mw-",
        "outputId": "4190240d-7db3-48c3-da96-51efd613bb59"
      },
      "execution_count": 7,
      "outputs": [
        {
          "output_type": "stream",
          "name": "stdout",
          "text": [
            "{}\n"
          ]
        }
      ]
    },
    {
      "cell_type": "code",
      "source": [
        "# Loop through dictionary\n",
        "\n",
        "d1={\"Apple\":5, \"Banana\":4,\"Watermelon\":10, \"Cherry\":3}\n",
        "\n",
        "for steps in d1:\n",
        "  print(steps)\n",
        "\n",
        "# print all values\n",
        "for steps in d1:\n",
        "  print(d1[steps])\n",
        "\n",
        "# print all keys\n",
        "for steps in d1.keys():\n",
        "  print(steps)\n",
        "\n",
        "# print all values\n",
        "for steps in d1.values():\n",
        "  print(steps)\n",
        "\n",
        "# print key and values\n",
        "for s,t in d1.items():\n",
        "  print(s,t)"
      ],
      "metadata": {
        "colab": {
          "base_uri": "https://localhost:8080/"
        },
        "id": "dtdBMavs4zuX",
        "outputId": "e0f52e74-256d-48ba-8a1d-e7269dbd3454"
      },
      "execution_count": 13,
      "outputs": [
        {
          "output_type": "stream",
          "name": "stdout",
          "text": [
            "Apple\n",
            "Banana\n",
            "Watermelon\n",
            "Cherry\n",
            "5\n",
            "4\n",
            "10\n",
            "3\n",
            "Apple\n",
            "Banana\n",
            "Watermelon\n",
            "Cherry\n",
            "5\n",
            "4\n",
            "10\n",
            "3\n",
            "Apple 5\n",
            "Banana 4\n",
            "Watermelon 10\n",
            "Cherry 3\n"
          ]
        }
      ]
    },
    {
      "cell_type": "code",
      "source": [
        "# copy a dictionary to another one\n",
        "\n",
        "d2=d1.copy()\n",
        "print(d2)\n",
        "\n",
        "d2=dict(d1)\n",
        "print(d2)"
      ],
      "metadata": {
        "colab": {
          "base_uri": "https://localhost:8080/"
        },
        "id": "AfNxAjzY5vv6",
        "outputId": "a5ef218d-21ff-4e6b-b0d8-a266a9a925a6"
      },
      "execution_count": 16,
      "outputs": [
        {
          "output_type": "stream",
          "name": "stdout",
          "text": [
            "{'Apple': 5, 'Banana': 4, 'Watermelon': 10, 'Cherry': 3}\n",
            "{'Apple': 5, 'Banana': 4, 'Watermelon': 10, 'Cherry': 3}\n"
          ]
        }
      ]
    },
    {
      "cell_type": "code",
      "source": [
        "# Nested dictionary\n",
        "\n",
        "d1={'Child1':{'Name':'Anaya','Age':6}, 'Child2':{'Name':'Anay','Age':6}, 'Child3':{'Name':'Avyan', 'Age':3}}\n",
        "print(d1)"
      ],
      "metadata": {
        "colab": {
          "base_uri": "https://localhost:8080/"
        },
        "id": "xmHx8rR16E3Z",
        "outputId": "4ff0194f-a67c-4886-c5d2-e570bc20f5a1"
      },
      "execution_count": 18,
      "outputs": [
        {
          "output_type": "stream",
          "name": "stdout",
          "text": [
            "{'Child1': {'Name': 'Anaya', 'Age': 6}, 'Child2': {'Name': 'Anay', 'Age': 6}, 'Child3': {'Name': 'Avyan', 'Age': 3}}\n"
          ]
        }
      ]
    },
    {
      "cell_type": "code",
      "source": [
        "# Create 3 dictionaries then combine them in another dictionary\n",
        "\n",
        "Child1={'Name':'Anaya','Age':6}\n",
        "Child2={'Name':'Anay','Age':6}\n",
        "Child3={'Name':'Avyan', 'Age':3}\n",
        "\n",
        "myFamily={'Child1':Child1, 'Child2':Child2, 'Child3':Child3}\n",
        "print(myFamily)"
      ],
      "metadata": {
        "colab": {
          "base_uri": "https://localhost:8080/"
        },
        "id": "cHB4sxzL7F-f",
        "outputId": "1be0e4a3-d0a6-405b-85f5-429d128ae647"
      },
      "execution_count": 20,
      "outputs": [
        {
          "output_type": "stream",
          "name": "stdout",
          "text": [
            "{'Child1': {'Name': 'Anaya', 'Age': 6}, 'Child2': {'Name': 'Anay', 'Age': 6}, 'Child3': {'Name': 'Avyan', 'Age': 3}}\n"
          ]
        }
      ]
    },
    {
      "cell_type": "code",
      "source": [
        "# Access items in Nested Dictionary\n",
        "\n",
        "print(myFamily['Child3']['Age'])"
      ],
      "metadata": {
        "colab": {
          "base_uri": "https://localhost:8080/"
        },
        "id": "vwOg3L1G7q31",
        "outputId": "0bba6910-94bd-483f-8130-ec38c3cb5c7e"
      },
      "execution_count": 21,
      "outputs": [
        {
          "output_type": "stream",
          "name": "stdout",
          "text": [
            "3\n"
          ]
        }
      ]
    }
  ]
}