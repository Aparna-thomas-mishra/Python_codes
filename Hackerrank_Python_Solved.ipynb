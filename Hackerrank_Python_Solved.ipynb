{
  "nbformat": 4,
  "nbformat_minor": 0,
  "metadata": {
    "colab": {
      "provenance": [],
      "authorship_tag": "ABX9TyMUDT/itnI/gRZwA+Vm+tnU",
      "include_colab_link": true
    },
    "kernelspec": {
      "name": "python3",
      "display_name": "Python 3"
    },
    "language_info": {
      "name": "python"
    }
  },
  "cells": [
    {
      "cell_type": "markdown",
      "metadata": {
        "id": "view-in-github",
        "colab_type": "text"
      },
      "source": [
        "<a href=\"https://colab.research.google.com/github/Aparna-thomas-mishra/Python_codes/blob/main/Hackerrank_Python_Solved.ipynb\" target=\"_parent\"><img src=\"https://colab.research.google.com/assets/colab-badge.svg\" alt=\"Open In Colab\"/></a>"
      ]
    },
    {
      "cell_type": "code",
      "execution_count": null,
      "metadata": {
        "colab": {
          "base_uri": "https://localhost:8080/"
        },
        "id": "8Pc5QVYebu3G",
        "outputId": "a335fac9-468d-445d-f356-48551ff1dcee"
      },
      "outputs": [
        {
          "output_type": "stream",
          "name": "stdout",
          "text": [
            "2\n",
            "3\n",
            "5\n",
            "-1\n",
            "6\n"
          ]
        }
      ],
      "source": [
        "# https://www.hackerrank.com/challenges/python-arithmetic-operators/problem?isFullScreen=true\n",
        "\n",
        "a = int(input())\n",
        "b = int(input())\n",
        "\n",
        "print(a+b)\n",
        "print(a-b)\n",
        "print(a*b)"
      ]
    },
    {
      "cell_type": "code",
      "source": [
        "# https://www.hackerrank.com/challenges/py-if-else/problem?isFullScreen=true\n",
        "\n",
        "if __name__ == '__main__':\n",
        "    n = int(input().strip())\n",
        "\n",
        "    if n%2!=0:\n",
        "        print('Weird')\n",
        "    else:\n",
        "        if n>=2 and n<=5:\n",
        "            print('Not Weird')\n",
        "        elif n>=6 and n<=20:\n",
        "            print('Weird')\n",
        "        else:\n",
        "            print('Not Weird')\n"
      ],
      "metadata": {
        "colab": {
          "base_uri": "https://localhost:8080/"
        },
        "id": "EGvnhzYxc1cK",
        "outputId": "9ed626e4-242e-4179-b707-6118fedb39d9"
      },
      "execution_count": null,
      "outputs": [
        {
          "output_type": "stream",
          "name": "stdout",
          "text": [
            "3\n",
            "Weird\n"
          ]
        }
      ]
    },
    {
      "cell_type": "code",
      "source": [
        "# https://www.hackerrank.com/challenges/python-loops/problem?isFullScreen=true\n",
        "\n",
        "if __name__ == '__main__':\n",
        "    n = int(input())\n",
        "\n",
        "    i=0\n",
        "    while i<n:\n",
        "        print(i**2)\n",
        "        i+=1"
      ],
      "metadata": {
        "colab": {
          "base_uri": "https://localhost:8080/"
        },
        "id": "4No1wS-DtNnz",
        "outputId": "420080e2-c426-4181-9fb2-7b01f85d6d4f"
      },
      "execution_count": null,
      "outputs": [
        {
          "output_type": "stream",
          "name": "stdout",
          "text": [
            "4\n",
            "0\n",
            "1\n",
            "4\n",
            "9\n",
            "16\n"
          ]
        }
      ]
    },
    {
      "cell_type": "code",
      "source": [
        "# https://www.hackerrank.com/challenges/write-a-function/problem?isFullScreen=true\n",
        "\n",
        "def is_leap(year):\n",
        "    leap = False\n",
        "\n",
        "    if year % 4 == 0:\n",
        "        if year % 100 == 0:\n",
        "            if year % 400 == 0:\n",
        "                leap = True\n",
        "            else :\n",
        "                leap = False\n",
        "        else :\n",
        "            leap = True\n",
        "    return leap\n",
        "\n",
        "year = int(input())\n",
        "print(is_leap(year))"
      ],
      "metadata": {
        "colab": {
          "base_uri": "https://localhost:8080/"
        },
        "id": "LzdvGCHSv2qb",
        "outputId": "edd15c1d-2ccb-499b-9e65-a283ed107bdf"
      },
      "execution_count": null,
      "outputs": [
        {
          "output_type": "stream",
          "name": "stdout",
          "text": [
            "1900\n",
            "False\n"
          ]
        }
      ]
    },
    {
      "cell_type": "code",
      "source": [
        "# https://www.hackerrank.com/challenges/python-division/problem?isFullScreen=true\n",
        "\n",
        "if __name__ == '__main__':\n",
        "    a = int(input())\n",
        "    b = int(input())\n",
        "\n",
        "    print(int(a/b))\n",
        "    print(float(a/b))"
      ],
      "metadata": {
        "id": "pRToFrGdzFWb",
        "outputId": "8f799254-2f07-4387-8f18-a0fd533d3fa2",
        "colab": {
          "base_uri": "https://localhost:8080/"
        }
      },
      "execution_count": null,
      "outputs": [
        {
          "output_type": "stream",
          "name": "stdout",
          "text": [
            "3\n",
            "4\n",
            "0\n",
            "0.75\n"
          ]
        }
      ]
    },
    {
      "cell_type": "code",
      "source": [
        "# https://www.hackerrank.com/challenges/swap-case/problem?isFullScreen=true\n",
        "\n",
        "def swap_case(s):\n",
        "    return s.swapcase()\n",
        "\n",
        "if __name__ == '__main__':\n",
        "    s = input()\n",
        "    result = swap_case(s)\n",
        "    print(result)"
      ],
      "metadata": {
        "colab": {
          "base_uri": "https://localhost:8080/"
        },
        "id": "iDO5mcxbln3x",
        "outputId": "d29614e2-571c-40fe-da81-3729d3e3d467"
      },
      "execution_count": 1,
      "outputs": [
        {
          "output_type": "stream",
          "name": "stdout",
          "text": [
            "aparna\n",
            "APARNA\n"
          ]
        }
      ]
    },
    {
      "cell_type": "code",
      "source": [
        "# https://www.hackerrank.com/challenges/python-string-split-and-join/problem?isFullScreen=true\n",
        "\n",
        "def split_and_join(line):\n",
        "    line=line.split(\" \")\n",
        "    line='-'.join(line)\n",
        "    return line\n",
        "    # write your code here\n",
        "\n",
        "if __name__ == '__main__':\n",
        "    line = input()\n",
        "    result = split_and_join(line)\n",
        "    print(result)"
      ],
      "metadata": {
        "colab": {
          "base_uri": "https://localhost:8080/"
        },
        "id": "BnRhtB8kluU7",
        "outputId": "fd317d52-65f5-4ea7-e702-31982c9f9200"
      },
      "execution_count": 5,
      "outputs": [
        {
          "output_type": "stream",
          "name": "stdout",
          "text": [
            "aparna thomas\n",
            "aparna-thomas\n"
          ]
        }
      ]
    },
    {
      "cell_type": "code",
      "source": [
        "# https://www.hackerrank.com/challenges/whats-your-name/problem?isFullScreen=true\n",
        "\n",
        "def print_full_name(first, last):\n",
        "    print('Hello '+first+' '+last+'! You just delved into python')\n",
        "    return\n",
        "    # Write your code here\n",
        "\n",
        "if __name__ == '__main__':\n",
        "    first_name = input()\n",
        "    last_name = input()\n",
        "    print_full_name(first_name, last_name)"
      ],
      "metadata": {
        "colab": {
          "base_uri": "https://localhost:8080/"
        },
        "id": "8SiYBFP8mltE",
        "outputId": "86b26996-7347-46a3-adf5-82f67de0af37"
      },
      "execution_count": 6,
      "outputs": [
        {
          "output_type": "stream",
          "name": "stdout",
          "text": [
            "Aparna\n",
            "Thomas\n",
            "Hello Aparna Thomas! You just delved into python\n"
          ]
        }
      ]
    },
    {
      "cell_type": "code",
      "source": [
        "# https://www.hackerrank.com/challenges/python-mutations/problem?isFullScreen=true\n",
        "\n",
        "def mutate_string(string, position, character):\n",
        "     string = string[:position] + character + string[position+1:]\n",
        "     return string\n",
        "\n",
        "\n",
        "if __name__ == '__main__':\n",
        "    s = input()\n",
        "    i, c = input().split()\n",
        "    s_new = mutate_string(s, int(i), c)\n",
        "    print(s_new)"
      ],
      "metadata": {
        "colab": {
          "base_uri": "https://localhost:8080/"
        },
        "id": "Sq1sbKR3naeb",
        "outputId": "e6f9a9e6-3561-411c-c667-a3c8cc7bfac5"
      },
      "execution_count": 18,
      "outputs": [
        {
          "output_type": "stream",
          "name": "stdout",
          "text": [
            "Aparna\n",
            "3 d\n",
            "Apadna\n"
          ]
        }
      ]
    },
    {
      "cell_type": "code",
      "source": [
        "# https://www.hackerrank.com/challenges/python-mutations/problem?isFullScreen=true\n",
        "\n",
        "def count_substring(string, sub_string):\n",
        "    l_sub=len(sub_string)\n",
        "    counter = 0\n",
        "    for steps in range(0,len(string)):\n",
        "      s1= string[steps:l_sub]\n",
        "      l_sub=l_sub+1\n",
        "      if s1==sub_string:\n",
        "        counter=counter+1\n",
        "      else:\n",
        "        counter=counter\n",
        "    return counter\n",
        "\n",
        "if __name__ == '__main__':\n",
        "    string = input().strip()\n",
        "    sub_string = input().strip()\n",
        "\n",
        "    count = count_substring(string, sub_string)\n",
        "    print(count)"
      ],
      "metadata": {
        "colab": {
          "base_uri": "https://localhost:8080/"
        },
        "id": "tQOjY15JaWWL",
        "outputId": "88ad7d7a-e04c-4ea3-8b08-03e6d650825e"
      },
      "execution_count": 40,
      "outputs": [
        {
          "output_type": "stream",
          "name": "stdout",
          "text": [
            "Aparna\n",
            "a\n",
            "2\n"
          ]
        }
      ]
    },
    {
      "cell_type": "code",
      "source": [
        "# https://www.hackerrank.com/challenges/string-validators/problem?isFullScreen=true\n",
        "\n",
        "def check_alnum(string):\n",
        "  lst=[]\n",
        "  for steps in range(0,len(string)):\n",
        "    lst.insert(steps,string[steps].isalnum())\n",
        "  return any(lst)\n",
        "\n",
        "def check_alpha(string):\n",
        "  lst=[]\n",
        "  for steps in range(0,len(string)):\n",
        "    lst.insert(steps,string[steps].isalpha())\n",
        "  return any(lst)\n",
        "\n",
        "def check_digit(string):\n",
        "  lst=[]\n",
        "  for steps in range(0,len(string)):\n",
        "    lst.insert(steps,string[steps].isdigit())\n",
        "  return any(lst)\n",
        "\n",
        "def check_lower(string):\n",
        "  lst=[]\n",
        "  for steps in range(0,len(string)):\n",
        "    lst.insert(steps,string[steps].islower())\n",
        "  return any(lst)\n",
        "\n",
        "def check_upper(string):\n",
        "  lst=[]\n",
        "  for steps in range(0,len(string)):\n",
        "    lst.insert(steps,string[steps].isupper())\n",
        "  return any(lst)\n",
        "\n",
        "if __name__ == '__main__':\n",
        "  s = input()\n",
        "  print(check_alnum(s))\n",
        "  print(check_alpha(s))\n",
        "  print(check_digit(s))\n",
        "  print(check_lower(s))\n",
        "  print(check_upper(s))"
      ],
      "metadata": {
        "colab": {
          "base_uri": "https://localhost:8080/"
        },
        "id": "4nGp_k1aicLj",
        "outputId": "f23b2de6-a183-4b22-bc65-dd989f84ed6d"
      },
      "execution_count": 47,
      "outputs": [
        {
          "output_type": "stream",
          "name": "stdout",
          "text": [
            "Aparna\n",
            "True\n",
            "True\n",
            "False\n",
            "True\n",
            "True\n"
          ]
        }
      ]
    },
    {
      "cell_type": "code",
      "source": [
        "# https://www.hackerrank.com/challenges/string-validators/problem?isFullScreen=true\n",
        "# Using list comprehension\n",
        "\n",
        "def check_alnum(string):\n",
        "  lst=[True for steps in range(0,len(string)) if string[steps].isalnum()]\n",
        "  return any(lst)\n",
        "\n",
        "def check_alpha(string):\n",
        "  lst=[True for steps in range(0,len(string)) if string[steps].isalpha()]\n",
        "  return any(lst)\n",
        "\n",
        "def check_digit(string):\n",
        "  lst=[True for steps in range(0,len(string)) if string[steps].isdigit()]\n",
        "  return any(lst)\n",
        "\n",
        "def check_lower(string):\n",
        "  lst=[True for steps in range(0,len(string)) if string[steps].islower()]\n",
        "  return any(lst)\n",
        "\n",
        "def check_upper(string):\n",
        "  lst=[True for steps in range(0,len(string)) if string[steps].isupper()]\n",
        "  return any(lst)\n",
        "\n",
        "if __name__ == '__main__':\n",
        "  s = input()\n",
        "  print(check_alnum(s))\n",
        "  print(check_alpha(s))\n",
        "  print(check_digit(s))\n",
        "  print(check_lower(s))\n",
        "  print(check_upper(s))"
      ],
      "metadata": {
        "colab": {
          "base_uri": "https://localhost:8080/"
        },
        "id": "YaVFzKdV--47",
        "outputId": "a74b5557-44a3-4727-b47c-d70db48607ee"
      },
      "execution_count": 149,
      "outputs": [
        {
          "output_type": "stream",
          "name": "stdout",
          "text": [
            "Aparna\n",
            "True\n",
            "True\n",
            "False\n",
            "True\n",
            "True\n"
          ]
        }
      ]
    },
    {
      "cell_type": "code",
      "source": [
        "# https://www.hackerrank.com/challenges/python-print/problem?isFullScreen=true\n",
        "\n",
        "if __name__ == '__main__':\n",
        "    n = int(input())\n",
        "    for steps in range(1,n+1):\n",
        "      print(steps,end=\"\")"
      ],
      "metadata": {
        "colab": {
          "base_uri": "https://localhost:8080/"
        },
        "id": "UjJSx5olbrBe",
        "outputId": "e90d4a18-400f-4a99-c67b-92032d11de10"
      },
      "execution_count": 57,
      "outputs": [
        {
          "output_type": "stream",
          "name": "stdout",
          "text": [
            "5\n",
            "12345"
          ]
        }
      ]
    },
    {
      "cell_type": "code",
      "source": [
        "# https://www.hackerrank.com/challenges/text-alignment/problem?isFullScreen=true\n",
        "\n",
        "#Replace all ______ with rjust, ljust or center.\n",
        "\n",
        "thickness = int(input()) #This must be an odd number\n",
        "c = 'H'\n",
        "\n",
        "#Top Cone\n",
        "for i in range(thickness):\n",
        "    print((c*i).rjust(thickness-1)+c+(c*i).ljust(thickness-1))\n",
        "\n",
        "#Top Pillars\n",
        "for i in range(thickness+1):\n",
        "    print((c*thickness).center(thickness*2)+(c*thickness).center(thickness*6))\n",
        "\n",
        "#Middle Belt\n",
        "for i in range((thickness+1)//2):\n",
        "    print((c*thickness*5).center(thickness*6))\n",
        "\n",
        "#Bottom Pillars\n",
        "for i in range(thickness+1):\n",
        "    print((c*thickness).center(thickness*2)+(c*thickness).center(thickness*6))\n",
        "\n",
        "#Bottom Cone\n",
        "for i in range(thickness):\n",
        "    print(((c*(thickness-i-1)).rjust(thickness)+c+(c*(thickness-i-1)).ljust(thickness)).rjust(thickness*6))"
      ],
      "metadata": {
        "colab": {
          "base_uri": "https://localhost:8080/"
        },
        "id": "kOjTWn_KgHbS",
        "outputId": "80318eda-8021-4f2a-edcf-1ddd8e5efe44"
      },
      "execution_count": 44,
      "outputs": [
        {
          "output_type": "stream",
          "name": "stdout",
          "text": [
            "9\n",
            "        H        \n",
            "       HHH       \n",
            "      HHHHH      \n",
            "     HHHHHHH     \n",
            "    HHHHHHHHH    \n",
            "   HHHHHHHHHHH   \n",
            "  HHHHHHHHHHHHH  \n",
            " HHHHHHHHHHHHHHH \n",
            "HHHHHHHHHHHHHHHHH\n",
            "    HHHHHHHHH                           HHHHHHHHH                       \n",
            "    HHHHHHHHH                           HHHHHHHHH                       \n",
            "    HHHHHHHHH                           HHHHHHHHH                       \n",
            "    HHHHHHHHH                           HHHHHHHHH                       \n",
            "    HHHHHHHHH                           HHHHHHHHH                       \n",
            "    HHHHHHHHH                           HHHHHHHHH                       \n",
            "    HHHHHHHHH                           HHHHHHHHH                       \n",
            "    HHHHHHHHH                           HHHHHHHHH                       \n",
            "    HHHHHHHHH                           HHHHHHHHH                       \n",
            "    HHHHHHHHH                           HHHHHHHHH                       \n",
            "    HHHHHHHHHHHHHHHHHHHHHHHHHHHHHHHHHHHHHHHHHHHHH     \n",
            "    HHHHHHHHHHHHHHHHHHHHHHHHHHHHHHHHHHHHHHHHHHHHH     \n",
            "    HHHHHHHHHHHHHHHHHHHHHHHHHHHHHHHHHHHHHHHHHHHHH     \n",
            "    HHHHHHHHHHHHHHHHHHHHHHHHHHHHHHHHHHHHHHHHHHHHH     \n",
            "    HHHHHHHHHHHHHHHHHHHHHHHHHHHHHHHHHHHHHHHHHHHHH     \n",
            "    HHHHHHHHH                           HHHHHHHHH                       \n",
            "    HHHHHHHHH                           HHHHHHHHH                       \n",
            "    HHHHHHHHH                           HHHHHHHHH                       \n",
            "    HHHHHHHHH                           HHHHHHHHH                       \n",
            "    HHHHHHHHH                           HHHHHHHHH                       \n",
            "    HHHHHHHHH                           HHHHHHHHH                       \n",
            "    HHHHHHHHH                           HHHHHHHHH                       \n",
            "    HHHHHHHHH                           HHHHHHHHH                       \n",
            "    HHHHHHHHH                           HHHHHHHHH                       \n",
            "    HHHHHHHHH                           HHHHHHHHH                       \n",
            "                                    HHHHHHHHHHHHHHHHH \n",
            "                                     HHHHHHHHHHHHHHH  \n",
            "                                      HHHHHHHHHHHHH   \n",
            "                                       HHHHHHHHHHH    \n",
            "                                        HHHHHHHHH     \n",
            "                                         HHHHHHH      \n",
            "                                          HHHHH       \n",
            "                                           HHH        \n",
            "                                            H         \n"
          ]
        }
      ]
    },
    {
      "cell_type": "code",
      "source": [
        "# https://www.hackerrank.com/challenges/text-alignment/problem?isFullScreen=true\n",
        "\n",
        "# without ljust,rjust and center\n",
        "\n",
        "thickness = int(input())\n",
        "c = 'H'\n",
        "\n",
        "#Top Cone\n",
        "for steps in range(0,thickness):\n",
        "  print(\" \"*(thickness-steps)+c*steps+c+c*steps)\n",
        "\n",
        "#Top Pillars\n",
        "for steps in range(0,thickness):\n",
        "  print(\" \"*(thickness-int(thickness/2))+ c*thickness+\" \"*3*thickness+c*thickness)\n",
        "\n",
        "# Middle pillars\n",
        "for steps in range(0,(thickness+1)//2):\n",
        "  print(\" \"*(thickness-int(thickness/2))+ 5*c*thickness)\n",
        "\n",
        "#Bottom Pillars\n",
        "for steps in range(0,thickness):\n",
        "  print(\" \"*(thickness-int(thickness/2))+ c*thickness+\" \"*3*thickness+c*thickness)\n",
        "\n",
        "#Bottom Cone\n",
        "for steps in range(1,thickness+1):\n",
        "  print(\" \"*4*thickness+\" \"*(steps)+c*(thickness-steps)+c+c*(thickness-steps))"
      ],
      "metadata": {
        "colab": {
          "base_uri": "https://localhost:8080/"
        },
        "id": "QlR1XliIWBmq",
        "outputId": "73e8d177-e78c-461a-b333-a736314034f1"
      },
      "execution_count": 1,
      "outputs": [
        {
          "output_type": "stream",
          "name": "stdout",
          "text": [
            "5\n",
            "     H\n",
            "    HHH\n",
            "   HHHHH\n",
            "  HHHHHHH\n",
            " HHHHHHHHH\n",
            "   HHHHH               HHHHH\n",
            "   HHHHH               HHHHH\n",
            "   HHHHH               HHHHH\n",
            "   HHHHH               HHHHH\n",
            "   HHHHH               HHHHH\n",
            "   HHHHHHHHHHHHHHHHHHHHHHHHH\n",
            "   HHHHHHHHHHHHHHHHHHHHHHHHH\n",
            "   HHHHHHHHHHHHHHHHHHHHHHHHH\n",
            "   HHHHH               HHHHH\n",
            "   HHHHH               HHHHH\n",
            "   HHHHH               HHHHH\n",
            "   HHHHH               HHHHH\n",
            "   HHHHH               HHHHH\n",
            "                     HHHHHHHHH\n",
            "                      HHHHHHH\n",
            "                       HHHHH\n",
            "                        HHH\n",
            "                         H\n"
          ]
        }
      ]
    },
    {
      "cell_type": "code",
      "source": [
        "# https://www.hackerrank.com/challenges/text-wrap/problem?isFullScreen=true\n",
        "\n",
        "import textwrap\n",
        "def wrap(string, max_width):\n",
        "    wrapper=textwrap.TextWrapper(width=max_width)\n",
        "    new_string = wrapper.fill(text=string)\n",
        "    return new_string\n",
        "\n",
        "if __name__ == '__main__':\n",
        "    string, max_width = input(), int(input())\n",
        "    result = wrap(string, max_width)\n",
        "    print(result)"
      ],
      "metadata": {
        "colab": {
          "base_uri": "https://localhost:8080/"
        },
        "id": "Vpg6f2xbYjSr",
        "outputId": "c3deab67-8602-4146-a2c2-bcca174c99b3"
      },
      "execution_count": 56,
      "outputs": [
        {
          "output_type": "stream",
          "name": "stdout",
          "text": [
            "vsrgw\n",
            "4\n",
            "vsrg\n",
            "w\n"
          ]
        }
      ]
    },
    {
      "cell_type": "code",
      "source": [
        "# https://www.hackerrank.com/challenges/designer-door-mat/problem?isFullScreen=true\n",
        "\n",
        "n, m=input().split( )\n",
        "n=int(n)\n",
        "m=int(m)\n",
        "m_row = m-len('WELCOME')\n",
        "\n",
        "for steps in range(1,n,2):\n",
        "  print(\"-\"*3*int((n-steps)/2)+'.|.'*steps+\"-\"*3*int((n-steps)/2))\n",
        "\n",
        "print(\"-\"*int((m-len('WELCOME'))/2)+'WELCOME'+\"-\"*int((m-len('WELCOME'))/2))\n",
        "\n",
        "for steps in range(n,1,-2):\n",
        "  print(\"-\"*3*int((n-steps+2)/2)+'.|.'*(steps-2)+\"-\"*3*int((n-steps+2)/2))"
      ],
      "metadata": {
        "colab": {
          "base_uri": "https://localhost:8080/"
        },
        "id": "V5Z2rvheTTiY",
        "outputId": "09ee3ce9-2ca1-4051-96c5-0255acd5cd42"
      },
      "execution_count": 4,
      "outputs": [
        {
          "output_type": "stream",
          "name": "stdout",
          "text": [
            "9 27\n",
            "------------.|.------------\n",
            "---------.|..|..|.---------\n",
            "------.|..|..|..|..|.------\n",
            "---.|..|..|..|..|..|..|.---\n",
            "----------WELCOME----------\n",
            "---.|..|..|..|..|..|..|.---\n",
            "------.|..|..|..|..|.------\n",
            "---------.|..|..|.---------\n",
            "------------.|.------------\n"
          ]
        }
      ]
    },
    {
      "cell_type": "code",
      "source": [
        "# https://www.hackerrank.com/challenges/list-comprehensions/problem?isFullScreen=true\n",
        "\n",
        "if __name__ == '__main__':\n",
        "    x = int(input())\n",
        "    y = int(input())\n",
        "    z = int(input())\n",
        "    n = int(input())\n",
        "\n",
        "    new_list=[]\n",
        "    for steps_x in range(0,x+1):\n",
        "      for steps_y in range(0,y+1):\n",
        "        for steps_z in range(0,z+1):\n",
        "          if (steps_x+steps_y+steps_z)!=n:\n",
        "            l1=list((steps_x,steps_y,steps_z))\n",
        "            new_list.append(l1)\n",
        "\n",
        "    print(new_list)\n"
      ],
      "metadata": {
        "colab": {
          "base_uri": "https://localhost:8080/"
        },
        "id": "GVAs9seTMbn1",
        "outputId": "4ee56aab-1bd8-45c9-8acb-852b1ece7dfa"
      },
      "execution_count": 19,
      "outputs": [
        {
          "output_type": "stream",
          "name": "stdout",
          "text": [
            "1\n",
            "1\n",
            "2\n",
            "3\n",
            "[[0, 0, 0], [0, 0, 1], [0, 0, 2], [0, 1, 0], [0, 1, 1], [1, 0, 0], [1, 0, 1], [1, 1, 0], [1, 1, 2]]\n"
          ]
        }
      ]
    },
    {
      "cell_type": "code",
      "source": [
        "# https://www.hackerrank.com/challenges/find-second-maximum-number-in-a-list/problem?isFullScreen=true\n",
        "\n",
        "if __name__ == '__main__':\n",
        "    n = int(input())\n",
        "    arr = map(int, input().split())\n",
        "    list1=list(arr)\n",
        "\n",
        "    mx=max(list1[0],list1[1])\n",
        "    smx=min(list1[0],list1[1])\n",
        "    for steps in range(2,n):\n",
        "      if mx<list1[steps]:\n",
        "        smx=mx\n",
        "        mx=list1[steps]\n",
        "      elif smx<list1[steps] and mx!=list1[steps]:\n",
        "        smx=list1[steps]\n",
        "      elif mx==smx and smx!=list1[steps]:\n",
        "        smx=list1[steps]\n",
        "\n",
        "    print(smx)\n"
      ],
      "metadata": {
        "colab": {
          "base_uri": "https://localhost:8080/"
        },
        "id": "gCteaZvpS6pj",
        "outputId": "ded2285a-94dd-4478-b05a-82203a186877"
      },
      "execution_count": 48,
      "outputs": [
        {
          "output_type": "stream",
          "name": "stdout",
          "text": [
            "5\n",
            "2 4 6 2 5\n",
            "5\n"
          ]
        }
      ]
    },
    {
      "cell_type": "code",
      "source": [
        "# https://www.hackerrank.com/challenges/nested-list/problem?isFullScreen=true\n",
        "# Nested List\n",
        "\n",
        "if __name__ == '__main__':\n",
        "  python_students=[]\n",
        "  for steps in range(int(input())):\n",
        "      name = input()\n",
        "      score = float(input())\n",
        "      lst=list((name,score))\n",
        "      python_students.append(lst)\n",
        "  # print(python_students)\n",
        "\n",
        "  mi=min(python_students[0][1],python_students[1][1])\n",
        "  smi=max(python_students[0][1],python_students[1][1])\n",
        "\n",
        "  for steps in range(2,len(python_students)):\n",
        "    if mi>python_students[steps][1]:\n",
        "      smi=mi\n",
        "      mi=python_students[steps][1]\n",
        "    elif smi>python_students[steps][1] and mi!=python_students[steps][1]:\n",
        "      smi=python_students[steps][1]\n",
        "    elif mi==smi and smi!=python_students[steps][1]:\n",
        "      smi=python_students[steps][1]\n",
        "\n",
        "  new_lst=[]\n",
        "  for steps in range(len(python_students)):\n",
        "    if python_students[steps][1]==smi:\n",
        "      new_lst.append(python_students[steps][0])\n",
        "\n",
        "  new_lst.sort()\n",
        "  for steps in range(len(new_lst)):\n",
        "      print(new_lst[steps])"
      ],
      "metadata": {
        "colab": {
          "base_uri": "https://localhost:8080/"
        },
        "id": "bFzZCvQhiEv1",
        "outputId": "bded7686-08e1-4ef9-95e2-99083ef3e276"
      },
      "execution_count": 25,
      "outputs": [
        {
          "output_type": "stream",
          "name": "stdout",
          "text": [
            "4\n",
            "Aparna\n",
            "50\n",
            "Himanshu\n",
            "50\n",
            "Hardik\n",
            "35\n",
            "Snighda\n",
            "55\n",
            "Aparna\n",
            "Himanshu\n"
          ]
        }
      ]
    },
    {
      "cell_type": "code",
      "source": [
        "# https://www.hackerrank.com/challenges/finding-the-percentage/problem?isFullScreen=true\n",
        "\n",
        "import math\n",
        "\n",
        "if __name__ == '__main__':\n",
        "    n = int(input())\n",
        "    student_marks = {}\n",
        "    for _ in range(n):\n",
        "        name, *line = input().split()\n",
        "        scores = list(map(float, line))\n",
        "        student_marks[name] = scores\n",
        "    query_name = input()\n",
        "\n",
        "    result ={name: sum(student_marks[name])/len(student_marks[name]) for name in student_marks.keys()}\n",
        "\n",
        "    if query_name in result:\n",
        "        print(format((result[query_name]), \".2f\"))\n"
      ],
      "metadata": {
        "colab": {
          "base_uri": "https://localhost:8080/"
        },
        "id": "EzmjkY0hNqjq",
        "outputId": "0db598e8-e456-4595-e73e-0cbe791e83ba"
      },
      "execution_count": 19,
      "outputs": [
        {
          "output_type": "stream",
          "name": "stdout",
          "text": [
            "2\n",
            "a 1 1 1 1\n",
            "b 2 2 2 2\n",
            "a\n",
            "1.00\n"
          ]
        }
      ]
    },
    {
      "cell_type": "code",
      "source": [
        "# https://www.hackerrank.com/challenges/python-lists/problem?isFullScreen=true\n",
        "\n",
        "if __name__ == '__main__':\n",
        "    N = int(input())\n",
        "\n",
        "    l1=[]\n",
        "\n",
        "    for steps in range(N):\n",
        "        com,*line = input().split()\n",
        "        num = list(map(int, line))\n",
        "        if com.startswith('insert'):\n",
        "          l1.insert(num[0], num[1])\n",
        "          print(l1)\n",
        "        elif com.startswith('print'):\n",
        "          print(l1)\n",
        "        elif com.startswith('remove'):\n",
        "          l1.remove(num[0])\n",
        "        elif com.startswith('append'):\n",
        "          l1.append(num[0])\n",
        "        elif com.startswith('sort'):\n",
        "          l1.sort()\n",
        "        elif com.startswith('pop'):\n",
        "          l1.pop()\n",
        "        elif com.startswith('reverse'):\n",
        "          l1.reverse()"
      ],
      "metadata": {
        "colab": {
          "base_uri": "https://localhost:8080/"
        },
        "id": "Rpsxcl8Lo1mG",
        "outputId": "3cd37898-81b8-4c47-b151-ddc50e95b7cd"
      },
      "execution_count": 12,
      "outputs": [
        {
          "output_type": "stream",
          "name": "stdout",
          "text": [
            "1\n",
            "insert 0 5\n",
            "[5]\n"
          ]
        }
      ]
    },
    {
      "cell_type": "code",
      "source": [
        "n = int(input())\n",
        "num=input().split()\n",
        "t=tuple(map(int,num))\n",
        "print(t)\n",
        "print(hash(t[0:n]))\n"
      ],
      "metadata": {
        "colab": {
          "base_uri": "https://localhost:8080/"
        },
        "id": "moFwqXwp-NqP",
        "outputId": "d4ca78fb-7bb6-4b3b-b7c2-699f94664160"
      },
      "execution_count": 51,
      "outputs": [
        {
          "output_type": "stream",
          "name": "stdout",
          "text": [
            "2\n",
            "1 2\n",
            "(1, 2)\n",
            "-3550055125485641917\n"
          ]
        }
      ]
    },
    {
      "cell_type": "code",
      "source": [
        "if __name__ == '__main__':\n",
        "    n = int(input())\n",
        "    integer_list = map(int, input().split())\n",
        "    tup = ()\n",
        "    for x in integer_list:\n",
        "        tup+=(x,)\n",
        "\n",
        "    print(hash(tup))"
      ],
      "metadata": {
        "colab": {
          "base_uri": "https://localhost:8080/"
        },
        "id": "oSg09In1CQ-3",
        "outputId": "64df6ce9-75b9-4594-b28c-1480b269938f"
      },
      "execution_count": 61,
      "outputs": [
        {
          "output_type": "stream",
          "name": "stdout",
          "text": [
            "2\n",
            "1 2\n",
            "-3550055125485641917\n"
          ]
        }
      ]
    },
    {
      "cell_type": "code",
      "source": [
        "tup=('1','2')\n",
        "print(hash(tup))"
      ],
      "metadata": {
        "colab": {
          "base_uri": "https://localhost:8080/"
        },
        "id": "AIDPZtfLDLT2",
        "outputId": "58163673-4669-443e-b254-5d48e6497df3"
      },
      "execution_count": 33,
      "outputs": [
        {
          "output_type": "stream",
          "name": "stdout",
          "text": [
            "771506116940814713\n"
          ]
        }
      ]
    }
  ]
}